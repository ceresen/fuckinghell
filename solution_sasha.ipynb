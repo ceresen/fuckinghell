{
 "cells": [
  {
   "cell_type": "code",
   "execution_count": 1,
   "outputs": [
    {
     "name": "stderr",
     "output_type": "stream",
     "text": [
      "C:\\Users\\Cherry\\anaconda3\\lib\\site-packages\\pymatgen\\core\\__init__.py:49: UserWarning: Error loading .pmgrc.yaml: [Errno 2] No such file or directory: 'C:\\\\Users\\\\Cherry\\\\.pmgrc.yaml'. You may need to reconfigure your yaml file.\n",
      "  warnings.warn(f\"Error loading .pmgrc.yaml: {ex}. You may need to reconfigure your yaml file.\")\n"
     ]
    }
   ],
   "source": [
    "import json\n",
    "import os\n",
    "import pandas as pd\n",
    "import torch\n",
    "import warnings\n",
    "from pymatgen.core import Structure\n",
    "from pymatgen import analysis\n",
    "from pymatgen.analysis.graphs import StructureGraph\n",
    "from pymatgen.analysis.local_env import JmolNN, VoronoiNN\n",
    "warnings.filterwarnings(\"ignore\")"
   ],
   "metadata": {
    "collapsed": false,
    "pycharm": {
     "name": "#%%\n"
    }
   }
  },
  {
   "cell_type": "code",
   "execution_count": 2,
   "outputs": [],
   "source": [
    "import torch_geometric\n",
    "from torch_geometric.data import Data\n",
    "from torch_geometric.loader import DataLoader"
   ],
   "metadata": {
    "collapsed": false,
    "pycharm": {
     "name": "#%%\n"
    }
   }
  },
  {
   "cell_type": "code",
   "execution_count": 3,
   "outputs": [],
   "source": [
    "def read_pymatgen_dict(file):\n",
    "    with open(file, \"r\") as f:\n",
    "        d = json.load(f)\n",
    "    return d, Structure.from_dict(d)"
   ],
   "metadata": {
    "collapsed": false,
    "pycharm": {
     "name": "#%%\n"
    }
   }
  },
  {
   "cell_type": "code",
   "execution_count": 4,
   "outputs": [
    {
     "data": {
      "text/plain": "2966"
     },
     "execution_count": 4,
     "metadata": {},
     "output_type": "execute_result"
    }
   ],
   "source": [
    "TRAIN_DIR = \"C:\\\\Users\\\\Cherry\\\\PycharmProjects\\\\IDAO_2022\\\\data\\\\dichalcogenides_public\\\\structures\"\n",
    "train_structure_names = os.listdir(TRAIN_DIR)\n",
    "targets = pd.read_csv(\"C:\\\\Users\\\\Cherry\\\\PycharmProjects\\\\IDAO_2022\\\\data\\\\dichalcogenides_public\\\\targets.csv\")\n",
    "len(train_structure_names)"
   ],
   "metadata": {
    "collapsed": false,
    "pycharm": {
     "name": "#%%\n"
    }
   }
  },
  {
   "cell_type": "code",
   "execution_count": 5,
   "outputs": [],
   "source": [
    "def specifications_of_structure(path):\n",
    "    crystall_dict, crystall_struct = read_pymatgen_dict(path)\n",
    "    graph = StructureGraph.with_local_env_strategy(crystall_struct, JmolNN())\n",
    "\n",
    "    adj = graph.as_dict()[\"graphs\"][\"adjacency\"]\n",
    "    f = []\n",
    "    t = []\n",
    "    edge_features = []\n",
    "    for from_id in range(len(adj)):\n",
    "        for to in adj[from_id]:\n",
    "            f.append(from_id)\n",
    "            t.append(to[\"id\"])\n",
    "            edge_features.append(to[\"to_jimage\"])\n",
    "\n",
    "    y = torch.Tensor(targets[targets._id == path.split(\"/\")[-1][:-5]].band_gap.to_numpy())\n",
    "\n",
    "    oh_atoms = {\n",
    "        \"Mo\": [1, 0, 0, 0],\n",
    "        \"W\": [0, 1, 0, 0],\n",
    "        \"Se\": [0, 0, 1, 0],\n",
    "        \"S\": [0, 0, 0, 1]\n",
    "    }\n",
    "\n",
    "    X = []\n",
    "    for atom_i in crystall_dict['sites']:\n",
    "        x = []\n",
    "        xyz = atom_i[\"xyz\"]\n",
    "        abc = atom_i[\"abc\"]\n",
    "        element = oh_atoms[atom_i[\"label\"]]\n",
    "        x.extend(xyz)\n",
    "        x.extend(abc)\n",
    "        x.extend(element)\n",
    "        X.append(x)\n",
    "    edge_index = torch.LongTensor([f, t])\n",
    "    X = torch.tensor(X)\n",
    "    return Data(x=X, y=y, edge_index=edge_index)"
   ],
   "metadata": {
    "collapsed": false,
    "pycharm": {
     "name": "#%%\n"
    }
   }
  },
  {
   "cell_type": "code",
   "execution_count": 15,
   "outputs": [],
   "source": [
    "list_1 = []\n",
    "list_1.append(specifications_of_structure('C:\\\\Users\\\\Cherry\\\\PycharmProjects\\\\IDAO_2022\\\\data\\\\dichalcogenides_public\\\\structures\\\\6141cf0f51c1cbd9654b8870.json'))"
   ],
   "metadata": {
    "collapsed": false,
    "pycharm": {
     "name": "#%%\n"
    }
   }
  },
  {
   "cell_type": "code",
   "execution_count": 22,
   "outputs": [
    {
     "name": "stdout",
     "output_type": "stream",
     "text": [
      "DataBatch(x=[190, 10], edge_index=[2, 570], y=[0], batch=[190], ptr=[2])\n"
     ]
    }
   ],
   "source": [
    "dataloader = DataLoader(list_1)\n",
    "for i in dataloader:\n",
    "    print(i)\n",
    "torch.save(dataloader, \"test_dataloader.pth\")"
   ],
   "metadata": {
    "collapsed": false,
    "pycharm": {
     "name": "#%%\n"
    }
   }
  },
  {
   "cell_type": "markdown",
   "source": [],
   "metadata": {
    "collapsed": false
   }
  },
  {
   "cell_type": "code",
   "execution_count": 7,
   "outputs": [
    {
     "data": {
      "text/plain": "                           _id  band_gap\n0     6141cf0f51c1cbd9654b8870    1.0843\n1     6141cf1051c1cbd9654b8872    1.1102\n2     6141cf11cc0e69a0cf28ab35    1.1484\n3     6141cf11b842c2e72e2f2d48    1.8068\n4     6141cf11ae4fb853db2e3f14    0.3600\n...                        ...       ...\n2961  6146d0b54e27a1844a5f0b02    1.1461\n2962  6146dd853ac25c70a5c6cdeb    0.3550\n2963  6146e9103ac25c70a5c6cded    0.3491\n2964  6146ecdb3ac25c70a5c6cdef    0.3506\n2965  6147d3de31cf3ef3d4a9f846    0.2888\n\n[2966 rows x 2 columns]",
      "text/html": "<div>\n<style scoped>\n    .dataframe tbody tr th:only-of-type {\n        vertical-align: middle;\n    }\n\n    .dataframe tbody tr th {\n        vertical-align: top;\n    }\n\n    .dataframe thead th {\n        text-align: right;\n    }\n</style>\n<table border=\"1\" class=\"dataframe\">\n  <thead>\n    <tr style=\"text-align: right;\">\n      <th></th>\n      <th>_id</th>\n      <th>band_gap</th>\n    </tr>\n  </thead>\n  <tbody>\n    <tr>\n      <th>0</th>\n      <td>6141cf0f51c1cbd9654b8870</td>\n      <td>1.0843</td>\n    </tr>\n    <tr>\n      <th>1</th>\n      <td>6141cf1051c1cbd9654b8872</td>\n      <td>1.1102</td>\n    </tr>\n    <tr>\n      <th>2</th>\n      <td>6141cf11cc0e69a0cf28ab35</td>\n      <td>1.1484</td>\n    </tr>\n    <tr>\n      <th>3</th>\n      <td>6141cf11b842c2e72e2f2d48</td>\n      <td>1.8068</td>\n    </tr>\n    <tr>\n      <th>4</th>\n      <td>6141cf11ae4fb853db2e3f14</td>\n      <td>0.3600</td>\n    </tr>\n    <tr>\n      <th>...</th>\n      <td>...</td>\n      <td>...</td>\n    </tr>\n    <tr>\n      <th>2961</th>\n      <td>6146d0b54e27a1844a5f0b02</td>\n      <td>1.1461</td>\n    </tr>\n    <tr>\n      <th>2962</th>\n      <td>6146dd853ac25c70a5c6cdeb</td>\n      <td>0.3550</td>\n    </tr>\n    <tr>\n      <th>2963</th>\n      <td>6146e9103ac25c70a5c6cded</td>\n      <td>0.3491</td>\n    </tr>\n    <tr>\n      <th>2964</th>\n      <td>6146ecdb3ac25c70a5c6cdef</td>\n      <td>0.3506</td>\n    </tr>\n    <tr>\n      <th>2965</th>\n      <td>6147d3de31cf3ef3d4a9f846</td>\n      <td>0.2888</td>\n    </tr>\n  </tbody>\n</table>\n<p>2966 rows × 2 columns</p>\n</div>"
     },
     "execution_count": 7,
     "metadata": {},
     "output_type": "execute_result"
    }
   ],
   "source": [
    "targets"
   ],
   "metadata": {
    "collapsed": false,
    "pycharm": {
     "name": "#%%\n"
    }
   }
  },
  {
   "cell_type": "code",
   "execution_count": 8,
   "outputs": [],
   "source": [
    "y = torch.Tensor(targets.band_gap.to_numpy())"
   ],
   "metadata": {
    "collapsed": false,
    "pycharm": {
     "name": "#%%\n"
    }
   }
  },
  {
   "cell_type": "code",
   "execution_count": 23,
   "outputs": [
    {
     "name": "stderr",
     "output_type": "stream",
     "text": [
      "100%|██████████| 2966/2966 [3:33:17<00:00,  4.31s/it]  \n"
     ]
    }
   ],
   "source": [
    "from tqdm import tqdm\n",
    "dataset = []\n",
    "for filename in tqdm(train_structure_names):\n",
    "    dataset.append(specifications_of_structure(TRAIN_DIR + '\\\\' + filename))\n",
    "dataloader = DataLoader(dataset)\n",
    "torch.save(dataloader, \"dataloader.pth\")"
   ],
   "metadata": {
    "collapsed": false,
    "pycharm": {
     "name": "#%%\n"
    }
   }
  },
  {
   "cell_type": "code",
   "execution_count": 46,
   "outputs": [
    {
     "data": {
      "text/plain": "[Data(x=[190, 10], edge_index=[2, 570], y=[0]),\n Data(x=[190, 10], edge_index=[2, 570], y=[0]),\n Data(x=[191, 10], edge_index=[2, 564], y=[0]),\n Data(x=[192, 10], edge_index=[2, 576], y=[0]),\n Data(x=[191, 10], edge_index=[2, 573], y=[0]),\n Data(x=[191, 10], edge_index=[2, 573], y=[0]),\n Data(x=[190, 10], edge_index=[2, 561], y=[0]),\n Data(x=[192, 10], edge_index=[2, 576], y=[0]),\n Data(x=[191, 10], edge_index=[2, 573], y=[0]),\n Data(x=[190, 10], edge_index=[2, 561], y=[0]),\n Data(x=[189, 10], edge_index=[2, 558], y=[0]),\n Data(x=[191, 10], edge_index=[2, 564], y=[0]),\n Data(x=[192, 10], edge_index=[2, 576], y=[0]),\n Data(x=[191, 10], edge_index=[2, 573], y=[0]),\n Data(x=[191, 10], edge_index=[2, 573], y=[0]),\n Data(x=[190, 10], edge_index=[2, 561], y=[0]),\n Data(x=[190, 10], edge_index=[2, 561], y=[0]),\n Data(x=[192, 10], edge_index=[2, 576], y=[0]),\n Data(x=[191, 10], edge_index=[2, 564], y=[0]),\n Data(x=[190, 10], edge_index=[2, 570], y=[0]),\n Data(x=[191, 10], edge_index=[2, 573], y=[0]),\n Data(x=[191, 10], edge_index=[2, 573], y=[0]),\n Data(x=[192, 10], edge_index=[2, 576], y=[0]),\n Data(x=[190, 10], edge_index=[2, 570], y=[0]),\n Data(x=[191, 10], edge_index=[2, 564], y=[0]),\n Data(x=[190, 10], edge_index=[2, 561], y=[0]),\n Data(x=[192, 10], edge_index=[2, 576], y=[0]),\n Data(x=[190, 10], edge_index=[2, 561], y=[0]),\n Data(x=[189, 10], edge_index=[2, 558], y=[0]),\n Data(x=[192, 10], edge_index=[2, 576], y=[0]),\n Data(x=[190, 10], edge_index=[2, 570], y=[0]),\n Data(x=[191, 10], edge_index=[2, 573], y=[0]),\n Data(x=[190, 10], edge_index=[2, 561], y=[0]),\n Data(x=[191, 10], edge_index=[2, 564], y=[0]),\n Data(x=[192, 10], edge_index=[2, 576], y=[0]),\n Data(x=[192, 10], edge_index=[2, 576], y=[0]),\n Data(x=[190, 10], edge_index=[2, 570], y=[0]),\n Data(x=[191, 10], edge_index=[2, 564], y=[0]),\n Data(x=[192, 10], edge_index=[2, 576], y=[0]),\n Data(x=[189, 10], edge_index=[2, 559], y=[0]),\n Data(x=[191, 10], edge_index=[2, 573], y=[0]),\n Data(x=[191, 10], edge_index=[2, 564], y=[0]),\n Data(x=[191, 10], edge_index=[2, 564], y=[0]),\n Data(x=[192, 10], edge_index=[2, 576], y=[0]),\n Data(x=[191, 10], edge_index=[2, 573], y=[0]),\n Data(x=[190, 10], edge_index=[2, 570], y=[0]),\n Data(x=[191, 10], edge_index=[2, 573], y=[0]),\n Data(x=[192, 10], edge_index=[2, 576], y=[0]),\n Data(x=[190, 10], edge_index=[2, 561], y=[0]),\n Data(x=[191, 10], edge_index=[2, 564], y=[0]),\n Data(x=[190, 10], edge_index=[2, 561], y=[0]),\n Data(x=[189, 10], edge_index=[2, 558], y=[0]),\n Data(x=[192, 10], edge_index=[2, 576], y=[0]),\n Data(x=[191, 10], edge_index=[2, 573], y=[0]),\n Data(x=[191, 10], edge_index=[2, 573], y=[0]),\n Data(x=[191, 10], edge_index=[2, 564], y=[0]),\n Data(x=[190, 10], edge_index=[2, 561], y=[0]),\n Data(x=[191, 10], edge_index=[2, 573], y=[0]),\n Data(x=[192, 10], edge_index=[2, 576], y=[0]),\n Data(x=[191, 10], edge_index=[2, 573], y=[0]),\n Data(x=[191, 10], edge_index=[2, 564], y=[0]),\n Data(x=[190, 10], edge_index=[2, 561], y=[0]),\n Data(x=[191, 10], edge_index=[2, 573], y=[0]),\n Data(x=[191, 10], edge_index=[2, 573], y=[0]),\n Data(x=[191, 10], edge_index=[2, 573], y=[0]),\n Data(x=[190, 10], edge_index=[2, 570], y=[0]),\n Data(x=[190, 10], edge_index=[2, 561], y=[0]),\n Data(x=[191, 10], edge_index=[2, 573], y=[0]),\n Data(x=[192, 10], edge_index=[2, 576], y=[0]),\n Data(x=[191, 10], edge_index=[2, 564], y=[0]),\n Data(x=[190, 10], edge_index=[2, 561], y=[0]),\n Data(x=[191, 10], edge_index=[2, 573], y=[0]),\n Data(x=[192, 10], edge_index=[2, 576], y=[0]),\n Data(x=[191, 10], edge_index=[2, 564], y=[0]),\n Data(x=[189, 10], edge_index=[2, 558], y=[0]),\n Data(x=[191, 10], edge_index=[2, 573], y=[0]),\n Data(x=[192, 10], edge_index=[2, 576], y=[0]),\n Data(x=[190, 10], edge_index=[2, 570], y=[0]),\n Data(x=[191, 10], edge_index=[2, 573], y=[0]),\n Data(x=[191, 10], edge_index=[2, 564], y=[0]),\n Data(x=[190, 10], edge_index=[2, 561], y=[0]),\n Data(x=[192, 10], edge_index=[2, 576], y=[0]),\n Data(x=[192, 10], edge_index=[2, 576], y=[0]),\n Data(x=[191, 10], edge_index=[2, 573], y=[0]),\n Data(x=[191, 10], edge_index=[2, 564], y=[0]),\n Data(x=[190, 10], edge_index=[2, 561], y=[0]),\n Data(x=[190, 10], edge_index=[2, 570], y=[0]),\n Data(x=[191, 10], edge_index=[2, 573], y=[0]),\n Data(x=[191, 10], edge_index=[2, 564], y=[0]),\n Data(x=[192, 10], edge_index=[2, 576], y=[0]),\n Data(x=[191, 10], edge_index=[2, 573], y=[0]),\n Data(x=[192, 10], edge_index=[2, 576], y=[0]),\n Data(x=[190, 10], edge_index=[2, 570], y=[0]),\n Data(x=[191, 10], edge_index=[2, 564], y=[0]),\n Data(x=[190, 10], edge_index=[2, 570], y=[0]),\n Data(x=[190, 10], edge_index=[2, 561], y=[0]),\n Data(x=[190, 10], edge_index=[2, 570], y=[0]),\n Data(x=[191, 10], edge_index=[2, 573], y=[0]),\n Data(x=[191, 10], edge_index=[2, 564], y=[0]),\n Data(x=[190, 10], edge_index=[2, 561], y=[0]),\n Data(x=[191, 10], edge_index=[2, 573], y=[0]),\n Data(x=[191, 10], edge_index=[2, 564], y=[0]),\n Data(x=[190, 10], edge_index=[2, 570], y=[0]),\n Data(x=[192, 10], edge_index=[2, 576], y=[0]),\n Data(x=[190, 10], edge_index=[2, 570], y=[0]),\n Data(x=[192, 10], edge_index=[2, 576], y=[0]),\n Data(x=[191, 10], edge_index=[2, 573], y=[0]),\n Data(x=[190, 10], edge_index=[2, 570], y=[0]),\n Data(x=[190, 10], edge_index=[2, 570], y=[0]),\n Data(x=[190, 10], edge_index=[2, 561], y=[0]),\n Data(x=[191, 10], edge_index=[2, 564], y=[0]),\n Data(x=[192, 10], edge_index=[2, 576], y=[0]),\n Data(x=[192, 10], edge_index=[2, 576], y=[0]),\n Data(x=[191, 10], edge_index=[2, 573], y=[0]),\n Data(x=[190, 10], edge_index=[2, 570], y=[0]),\n Data(x=[189, 10], edge_index=[2, 558], y=[0]),\n Data(x=[191, 10], edge_index=[2, 573], y=[0]),\n Data(x=[190, 10], edge_index=[2, 561], y=[0]),\n Data(x=[191, 10], edge_index=[2, 573], y=[0]),\n Data(x=[192, 10], edge_index=[2, 576], y=[0]),\n Data(x=[190, 10], edge_index=[2, 570], y=[0]),\n Data(x=[191, 10], edge_index=[2, 564], y=[0]),\n Data(x=[191, 10], edge_index=[2, 573], y=[0]),\n Data(x=[192, 10], edge_index=[2, 576], y=[0]),\n Data(x=[190, 10], edge_index=[2, 570], y=[0]),\n Data(x=[190, 10], edge_index=[2, 570], y=[0]),\n Data(x=[190, 10], edge_index=[2, 570], y=[0]),\n Data(x=[190, 10], edge_index=[2, 561], y=[0]),\n Data(x=[189, 10], edge_index=[2, 558], y=[0]),\n Data(x=[190, 10], edge_index=[2, 570], y=[0]),\n Data(x=[191, 10], edge_index=[2, 564], y=[0]),\n Data(x=[190, 10], edge_index=[2, 561], y=[0]),\n Data(x=[192, 10], edge_index=[2, 576], y=[0]),\n Data(x=[190, 10], edge_index=[2, 561], y=[0]),\n Data(x=[192, 10], edge_index=[2, 576], y=[0]),\n Data(x=[189, 10], edge_index=[2, 558], y=[0]),\n Data(x=[191, 10], edge_index=[2, 573], y=[0]),\n Data(x=[192, 10], edge_index=[2, 576], y=[0]),\n Data(x=[191, 10], edge_index=[2, 573], y=[0]),\n Data(x=[191, 10], edge_index=[2, 564], y=[0]),\n Data(x=[191, 10], edge_index=[2, 573], y=[0]),\n Data(x=[190, 10], edge_index=[2, 561], y=[0]),\n Data(x=[190, 10], edge_index=[2, 570], y=[0]),\n Data(x=[191, 10], edge_index=[2, 564], y=[0]),\n Data(x=[190, 10], edge_index=[2, 562], y=[0]),\n Data(x=[191, 10], edge_index=[2, 564], y=[0]),\n Data(x=[190, 10], edge_index=[2, 562], y=[0]),\n Data(x=[191, 10], edge_index=[2, 564], y=[0]),\n Data(x=[191, 10], edge_index=[2, 573], y=[0]),\n Data(x=[191, 10], edge_index=[2, 564], y=[0]),\n Data(x=[190, 10], edge_index=[2, 570], y=[0]),\n Data(x=[190, 10], edge_index=[2, 561], y=[0]),\n Data(x=[192, 10], edge_index=[2, 576], y=[0]),\n Data(x=[190, 10], edge_index=[2, 570], y=[0]),\n Data(x=[191, 10], edge_index=[2, 564], y=[0]),\n Data(x=[190, 10], edge_index=[2, 570], y=[0]),\n Data(x=[191, 10], edge_index=[2, 573], y=[0]),\n Data(x=[192, 10], edge_index=[2, 576], y=[0]),\n Data(x=[190, 10], edge_index=[2, 570], y=[0]),\n Data(x=[190, 10], edge_index=[2, 561], y=[0]),\n Data(x=[189, 10], edge_index=[2, 558], y=[0]),\n Data(x=[191, 10], edge_index=[2, 573], y=[0]),\n Data(x=[190, 10], edge_index=[2, 561], y=[0]),\n Data(x=[191, 10], edge_index=[2, 573], y=[0]),\n Data(x=[191, 10], edge_index=[2, 564], y=[0]),\n Data(x=[190, 10], edge_index=[2, 561], y=[0]),\n Data(x=[191, 10], edge_index=[2, 573], y=[0]),\n Data(x=[191, 10], edge_index=[2, 564], y=[0]),\n Data(x=[189, 10], edge_index=[2, 558], y=[0]),\n Data(x=[192, 10], edge_index=[2, 576], y=[0]),\n Data(x=[190, 10], edge_index=[2, 570], y=[0]),\n Data(x=[191, 10], edge_index=[2, 564], y=[0]),\n Data(x=[190, 10], edge_index=[2, 561], y=[0]),\n Data(x=[191, 10], edge_index=[2, 573], y=[0]),\n Data(x=[190, 10], edge_index=[2, 570], y=[0]),\n Data(x=[191, 10], edge_index=[2, 573], y=[0]),\n Data(x=[191, 10], edge_index=[2, 564], y=[0]),\n Data(x=[190, 10], edge_index=[2, 562], y=[0]),\n Data(x=[189, 10], edge_index=[2, 558], y=[0]),\n Data(x=[191, 10], edge_index=[2, 573], y=[0]),\n Data(x=[192, 10], edge_index=[2, 576], y=[0]),\n Data(x=[192, 10], edge_index=[2, 576], y=[0]),\n Data(x=[190, 10], edge_index=[2, 570], y=[0]),\n Data(x=[191, 10], edge_index=[2, 564], y=[0]),\n Data(x=[192, 10], edge_index=[2, 576], y=[0]),\n Data(x=[190, 10], edge_index=[2, 570], y=[0]),\n Data(x=[191, 10], edge_index=[2, 564], y=[0]),\n Data(x=[190, 10], edge_index=[2, 561], y=[0]),\n Data(x=[192, 10], edge_index=[2, 576], y=[0]),\n Data(x=[191, 10], edge_index=[2, 564], y=[0]),\n Data(x=[192, 10], edge_index=[2, 576], y=[0]),\n Data(x=[190, 10], edge_index=[2, 561], y=[0]),\n Data(x=[190, 10], edge_index=[2, 570], y=[0]),\n Data(x=[192, 10], edge_index=[2, 576], y=[0]),\n Data(x=[191, 10], edge_index=[2, 564], y=[0]),\n Data(x=[190, 10], edge_index=[2, 562], y=[0]),\n Data(x=[190, 10], edge_index=[2, 570], y=[0]),\n Data(x=[191, 10], edge_index=[2, 573], y=[0]),\n Data(x=[191, 10], edge_index=[2, 573], y=[0]),\n Data(x=[190, 10], edge_index=[2, 562], y=[0]),\n Data(x=[191, 10], edge_index=[2, 564], y=[0]),\n Data(x=[190, 10], edge_index=[2, 570], y=[0]),\n Data(x=[192, 10], edge_index=[2, 576], y=[0]),\n Data(x=[190, 10], edge_index=[2, 570], y=[0]),\n Data(x=[190, 10], edge_index=[2, 561], y=[0]),\n Data(x=[191, 10], edge_index=[2, 573], y=[0]),\n Data(x=[191, 10], edge_index=[2, 573], y=[0]),\n Data(x=[192, 10], edge_index=[2, 576], y=[0]),\n Data(x=[190, 10], edge_index=[2, 561], y=[0]),\n Data(x=[191, 10], edge_index=[2, 573], y=[0]),\n Data(x=[191, 10], edge_index=[2, 564], y=[0]),\n Data(x=[191, 10], edge_index=[2, 573], y=[0]),\n Data(x=[192, 10], edge_index=[2, 576], y=[0]),\n Data(x=[189, 10], edge_index=[2, 558], y=[0]),\n Data(x=[192, 10], edge_index=[2, 576], y=[0]),\n Data(x=[191, 10], edge_index=[2, 573], y=[0]),\n Data(x=[190, 10], edge_index=[2, 562], y=[0]),\n Data(x=[192, 10], edge_index=[2, 576], y=[0]),\n Data(x=[190, 10], edge_index=[2, 570], y=[0]),\n Data(x=[191, 10], edge_index=[2, 573], y=[0]),\n Data(x=[191, 10], edge_index=[2, 564], y=[0]),\n Data(x=[190, 10], edge_index=[2, 561], y=[0]),\n Data(x=[189, 10], edge_index=[2, 558], y=[0]),\n Data(x=[190, 10], edge_index=[2, 561], y=[0]),\n Data(x=[191, 10], edge_index=[2, 573], y=[0]),\n Data(x=[190, 10], edge_index=[2, 570], y=[0]),\n Data(x=[192, 10], edge_index=[2, 576], y=[0]),\n Data(x=[190, 10], edge_index=[2, 561], y=[0]),\n Data(x=[189, 10], edge_index=[2, 558], y=[0]),\n Data(x=[190, 10], edge_index=[2, 570], y=[0]),\n Data(x=[190, 10], edge_index=[2, 561], y=[0]),\n Data(x=[191, 10], edge_index=[2, 564], y=[0]),\n Data(x=[190, 10], edge_index=[2, 570], y=[0]),\n Data(x=[190, 10], edge_index=[2, 561], y=[0]),\n Data(x=[191, 10], edge_index=[2, 564], y=[0]),\n Data(x=[191, 10], edge_index=[2, 573], y=[0]),\n Data(x=[191, 10], edge_index=[2, 564], y=[0]),\n Data(x=[191, 10], edge_index=[2, 573], y=[0]),\n Data(x=[190, 10], edge_index=[2, 570], y=[0]),\n Data(x=[191, 10], edge_index=[2, 564], y=[0]),\n Data(x=[191, 10], edge_index=[2, 573], y=[0]),\n Data(x=[191, 10], edge_index=[2, 564], y=[0]),\n Data(x=[190, 10], edge_index=[2, 561], y=[0]),\n Data(x=[191, 10], edge_index=[2, 573], y=[0]),\n Data(x=[192, 10], edge_index=[2, 576], y=[0]),\n Data(x=[190, 10], edge_index=[2, 570], y=[0]),\n Data(x=[191, 10], edge_index=[2, 564], y=[0]),\n Data(x=[191, 10], edge_index=[2, 564], y=[0]),\n Data(x=[190, 10], edge_index=[2, 561], y=[0]),\n Data(x=[191, 10], edge_index=[2, 573], y=[0]),\n Data(x=[192, 10], edge_index=[2, 576], y=[0]),\n Data(x=[190, 10], edge_index=[2, 570], y=[0]),\n Data(x=[189, 10], edge_index=[2, 558], y=[0]),\n Data(x=[192, 10], edge_index=[2, 576], y=[0]),\n Data(x=[191, 10], edge_index=[2, 564], y=[0]),\n Data(x=[191, 10], edge_index=[2, 573], y=[0]),\n Data(x=[192, 10], edge_index=[2, 576], y=[0]),\n Data(x=[190, 10], edge_index=[2, 561], y=[0]),\n Data(x=[190, 10], edge_index=[2, 570], y=[0]),\n Data(x=[192, 10], edge_index=[2, 576], y=[0]),\n Data(x=[190, 10], edge_index=[2, 561], y=[0]),\n Data(x=[190, 10], edge_index=[2, 570], y=[0]),\n Data(x=[191, 10], edge_index=[2, 573], y=[0]),\n Data(x=[192, 10], edge_index=[2, 576], y=[0]),\n Data(x=[190, 10], edge_index=[2, 561], y=[0]),\n Data(x=[192, 10], edge_index=[2, 576], y=[0]),\n Data(x=[191, 10], edge_index=[2, 564], y=[0]),\n Data(x=[190, 10], edge_index=[2, 561], y=[0]),\n Data(x=[189, 10], edge_index=[2, 558], y=[0]),\n Data(x=[192, 10], edge_index=[2, 576], y=[0]),\n Data(x=[191, 10], edge_index=[2, 564], y=[0]),\n Data(x=[191, 10], edge_index=[2, 573], y=[0]),\n Data(x=[190, 10], edge_index=[2, 570], y=[0]),\n Data(x=[191, 10], edge_index=[2, 564], y=[0]),\n Data(x=[191, 10], edge_index=[2, 573], y=[0]),\n Data(x=[189, 10], edge_index=[2, 558], y=[0]),\n Data(x=[190, 10], edge_index=[2, 561], y=[0]),\n Data(x=[192, 10], edge_index=[2, 576], y=[0]),\n Data(x=[190, 10], edge_index=[2, 570], y=[0]),\n Data(x=[190, 10], edge_index=[2, 561], y=[0]),\n Data(x=[191, 10], edge_index=[2, 564], y=[0]),\n Data(x=[191, 10], edge_index=[2, 573], y=[0]),\n Data(x=[192, 10], edge_index=[2, 576], y=[0]),\n Data(x=[190, 10], edge_index=[2, 570], y=[0]),\n Data(x=[191, 10], edge_index=[2, 573], y=[0]),\n Data(x=[190, 10], edge_index=[2, 561], y=[0]),\n Data(x=[191, 10], edge_index=[2, 573], y=[0]),\n Data(x=[190, 10], edge_index=[2, 570], y=[0]),\n Data(x=[190, 10], edge_index=[2, 561], y=[0]),\n Data(x=[189, 10], edge_index=[2, 558], y=[0]),\n Data(x=[191, 10], edge_index=[2, 573], y=[0]),\n Data(x=[191, 10], edge_index=[2, 564], y=[0]),\n Data(x=[190, 10], edge_index=[2, 570], y=[0]),\n Data(x=[191, 10], edge_index=[2, 573], y=[0]),\n Data(x=[190, 10], edge_index=[2, 570], y=[0]),\n Data(x=[191, 10], edge_index=[2, 573], y=[0]),\n Data(x=[190, 10], edge_index=[2, 570], y=[0]),\n Data(x=[190, 10], edge_index=[2, 561], y=[0]),\n Data(x=[191, 10], edge_index=[2, 573], y=[0]),\n Data(x=[192, 10], edge_index=[2, 576], y=[0]),\n Data(x=[191, 10], edge_index=[2, 564], y=[0]),\n Data(x=[190, 10], edge_index=[2, 570], y=[0]),\n Data(x=[190, 10], edge_index=[2, 561], y=[0]),\n Data(x=[190, 10], edge_index=[2, 570], y=[0]),\n Data(x=[191, 10], edge_index=[2, 564], y=[0]),\n Data(x=[191, 10], edge_index=[2, 573], y=[0]),\n Data(x=[192, 10], edge_index=[2, 576], y=[0]),\n Data(x=[190, 10], edge_index=[2, 561], y=[0]),\n Data(x=[191, 10], edge_index=[2, 564], y=[0]),\n Data(x=[190, 10], edge_index=[2, 570], y=[0]),\n Data(x=[190, 10], edge_index=[2, 561], y=[0]),\n Data(x=[191, 10], edge_index=[2, 564], y=[0]),\n Data(x=[192, 10], edge_index=[2, 576], y=[0]),\n Data(x=[189, 10], edge_index=[2, 558], y=[0]),\n Data(x=[192, 10], edge_index=[2, 576], y=[0]),\n Data(x=[190, 10], edge_index=[2, 561], y=[0]),\n Data(x=[191, 10], edge_index=[2, 573], y=[0]),\n Data(x=[192, 10], edge_index=[2, 576], y=[0]),\n Data(x=[189, 10], edge_index=[2, 558], y=[0]),\n Data(x=[190, 10], edge_index=[2, 561], y=[0]),\n Data(x=[190, 10], edge_index=[2, 570], y=[0]),\n Data(x=[190, 10], edge_index=[2, 561], y=[0]),\n Data(x=[191, 10], edge_index=[2, 564], y=[0]),\n Data(x=[191, 10], edge_index=[2, 573], y=[0]),\n Data(x=[190, 10], edge_index=[2, 570], y=[0]),\n Data(x=[191, 10], edge_index=[2, 564], y=[0]),\n Data(x=[191, 10], edge_index=[2, 573], y=[0]),\n Data(x=[190, 10], edge_index=[2, 561], y=[0]),\n Data(x=[190, 10], edge_index=[2, 570], y=[0]),\n Data(x=[191, 10], edge_index=[2, 564], y=[0]),\n Data(x=[190, 10], edge_index=[2, 561], y=[0]),\n Data(x=[191, 10], edge_index=[2, 573], y=[0]),\n Data(x=[190, 10], edge_index=[2, 561], y=[0]),\n Data(x=[191, 10], edge_index=[2, 573], y=[0]),\n Data(x=[189, 10], edge_index=[2, 559], y=[0]),\n Data(x=[192, 10], edge_index=[2, 576], y=[0]),\n Data(x=[190, 10], edge_index=[2, 570], y=[0]),\n Data(x=[192, 10], edge_index=[2, 576], y=[0]),\n Data(x=[190, 10], edge_index=[2, 562], y=[0]),\n Data(x=[191, 10], edge_index=[2, 573], y=[0]),\n Data(x=[191, 10], edge_index=[2, 564], y=[0]),\n Data(x=[190, 10], edge_index=[2, 561], y=[0]),\n Data(x=[191, 10], edge_index=[2, 573], y=[0]),\n Data(x=[191, 10], edge_index=[2, 573], y=[0]),\n Data(x=[190, 10], edge_index=[2, 570], y=[0]),\n Data(x=[191, 10], edge_index=[2, 573], y=[0]),\n Data(x=[192, 10], edge_index=[2, 576], y=[0]),\n Data(x=[191, 10], edge_index=[2, 564], y=[0]),\n Data(x=[190, 10], edge_index=[2, 561], y=[0]),\n Data(x=[190, 10], edge_index=[2, 570], y=[0]),\n Data(x=[192, 10], edge_index=[2, 576], y=[0]),\n Data(x=[191, 10], edge_index=[2, 573], y=[0]),\n Data(x=[191, 10], edge_index=[2, 573], y=[0]),\n Data(x=[190, 10], edge_index=[2, 570], y=[0]),\n Data(x=[192, 10], edge_index=[2, 576], y=[0]),\n Data(x=[190, 10], edge_index=[2, 570], y=[0]),\n Data(x=[191, 10], edge_index=[2, 564], y=[0]),\n Data(x=[191, 10], edge_index=[2, 573], y=[0]),\n Data(x=[190, 10], edge_index=[2, 570], y=[0]),\n Data(x=[191, 10], edge_index=[2, 564], y=[0]),\n Data(x=[190, 10], edge_index=[2, 561], y=[0]),\n Data(x=[191, 10], edge_index=[2, 573], y=[0]),\n Data(x=[192, 10], edge_index=[2, 576], y=[0]),\n Data(x=[189, 10], edge_index=[2, 558], y=[0]),\n Data(x=[190, 10], edge_index=[2, 561], y=[0]),\n Data(x=[191, 10], edge_index=[2, 573], y=[0]),\n Data(x=[191, 10], edge_index=[2, 564], y=[0]),\n Data(x=[191, 10], edge_index=[2, 573], y=[0]),\n Data(x=[192, 10], edge_index=[2, 576], y=[0]),\n Data(x=[191, 10], edge_index=[2, 573], y=[0]),\n Data(x=[190, 10], edge_index=[2, 570], y=[0]),\n Data(x=[190, 10], edge_index=[2, 561], y=[0]),\n Data(x=[192, 10], edge_index=[2, 576], y=[0]),\n Data(x=[190, 10], edge_index=[2, 570], y=[0]),\n Data(x=[190, 10], edge_index=[2, 561], y=[0]),\n Data(x=[189, 10], edge_index=[2, 558], y=[0]),\n Data(x=[190, 10], edge_index=[2, 561], y=[0]),\n Data(x=[191, 10], edge_index=[2, 573], y=[0]),\n Data(x=[192, 10], edge_index=[2, 576], y=[0]),\n Data(x=[190, 10], edge_index=[2, 570], y=[0]),\n Data(x=[191, 10], edge_index=[2, 564], y=[0]),\n Data(x=[190, 10], edge_index=[2, 561], y=[0]),\n Data(x=[189, 10], edge_index=[2, 558], y=[0]),\n Data(x=[191, 10], edge_index=[2, 573], y=[0]),\n Data(x=[192, 10], edge_index=[2, 576], y=[0]),\n Data(x=[190, 10], edge_index=[2, 561], y=[0]),\n Data(x=[192, 10], edge_index=[2, 576], y=[0]),\n Data(x=[192, 10], edge_index=[2, 576], y=[0]),\n Data(x=[190, 10], edge_index=[2, 570], y=[0]),\n Data(x=[190, 10], edge_index=[2, 561], y=[0]),\n Data(x=[191, 10], edge_index=[2, 573], y=[0]),\n Data(x=[190, 10], edge_index=[2, 570], y=[0]),\n Data(x=[190, 10], edge_index=[2, 570], y=[0]),\n Data(x=[190, 10], edge_index=[2, 561], y=[0]),\n Data(x=[191, 10], edge_index=[2, 573], y=[0]),\n Data(x=[189, 10], edge_index=[2, 558], y=[0]),\n Data(x=[190, 10], edge_index=[2, 570], y=[0]),\n Data(x=[191, 10], edge_index=[2, 564], y=[0]),\n Data(x=[192, 10], edge_index=[2, 576], y=[0]),\n Data(x=[190, 10], edge_index=[2, 561], y=[0]),\n Data(x=[192, 10], edge_index=[2, 576], y=[0]),\n Data(x=[191, 10], edge_index=[2, 573], y=[0]),\n Data(x=[192, 10], edge_index=[2, 576], y=[0]),\n Data(x=[190, 10], edge_index=[2, 570], y=[0]),\n Data(x=[191, 10], edge_index=[2, 573], y=[0]),\n Data(x=[189, 10], edge_index=[2, 558], y=[0]),\n Data(x=[191, 10], edge_index=[2, 564], y=[0]),\n Data(x=[191, 10], edge_index=[2, 573], y=[0]),\n Data(x=[192, 10], edge_index=[2, 576], y=[0]),\n Data(x=[190, 10], edge_index=[2, 570], y=[0]),\n Data(x=[190, 10], edge_index=[2, 561], y=[0]),\n Data(x=[190, 10], edge_index=[2, 561], y=[0]),\n Data(x=[191, 10], edge_index=[2, 564], y=[0]),\n Data(x=[190, 10], edge_index=[2, 561], y=[0]),\n Data(x=[189, 10], edge_index=[2, 558], y=[0]),\n Data(x=[190, 10], edge_index=[2, 570], y=[0]),\n Data(x=[191, 10], edge_index=[2, 564], y=[0]),\n Data(x=[190, 10], edge_index=[2, 561], y=[0]),\n Data(x=[191, 10], edge_index=[2, 573], y=[0]),\n Data(x=[190, 10], edge_index=[2, 561], y=[0]),\n Data(x=[191, 10], edge_index=[2, 573], y=[0]),\n Data(x=[192, 10], edge_index=[2, 576], y=[0]),\n Data(x=[191, 10], edge_index=[2, 573], y=[0]),\n Data(x=[190, 10], edge_index=[2, 561], y=[0]),\n Data(x=[189, 10], edge_index=[2, 558], y=[0]),\n Data(x=[190, 10], edge_index=[2, 570], y=[0]),\n Data(x=[191, 10], edge_index=[2, 564], y=[0]),\n Data(x=[191, 10], edge_index=[2, 573], y=[0]),\n Data(x=[190, 10], edge_index=[2, 570], y=[0]),\n Data(x=[190, 10], edge_index=[2, 561], y=[0]),\n Data(x=[189, 10], edge_index=[2, 558], y=[0]),\n Data(x=[191, 10], edge_index=[2, 573], y=[0]),\n Data(x=[190, 10], edge_index=[2, 561], y=[0]),\n Data(x=[190, 10], edge_index=[2, 570], y=[0]),\n Data(x=[192, 10], edge_index=[2, 576], y=[0]),\n Data(x=[191, 10], edge_index=[2, 564], y=[0]),\n Data(x=[191, 10], edge_index=[2, 573], y=[0]),\n Data(x=[192, 10], edge_index=[2, 576], y=[0]),\n Data(x=[191, 10], edge_index=[2, 564], y=[0]),\n Data(x=[191, 10], edge_index=[2, 573], y=[0]),\n Data(x=[189, 10], edge_index=[2, 558], y=[0]),\n Data(x=[190, 10], edge_index=[2, 561], y=[0]),\n Data(x=[190, 10], edge_index=[2, 570], y=[0]),\n Data(x=[191, 10], edge_index=[2, 564], y=[0]),\n Data(x=[192, 10], edge_index=[2, 576], y=[0]),\n Data(x=[190, 10], edge_index=[2, 561], y=[0]),\n Data(x=[192, 10], edge_index=[2, 576], y=[0]),\n Data(x=[190, 10], edge_index=[2, 561], y=[0]),\n Data(x=[191, 10], edge_index=[2, 564], y=[0]),\n Data(x=[192, 10], edge_index=[2, 576], y=[0]),\n Data(x=[191, 10], edge_index=[2, 564], y=[0]),\n Data(x=[190, 10], edge_index=[2, 561], y=[0]),\n Data(x=[192, 10], edge_index=[2, 576], y=[0]),\n Data(x=[191, 10], edge_index=[2, 564], y=[0]),\n Data(x=[189, 10], edge_index=[2, 558], y=[0]),\n Data(x=[190, 10], edge_index=[2, 570], y=[0]),\n Data(x=[192, 10], edge_index=[2, 576], y=[0]),\n Data(x=[192, 10], edge_index=[2, 576], y=[0]),\n Data(x=[190, 10], edge_index=[2, 570], y=[0]),\n Data(x=[190, 10], edge_index=[2, 561], y=[0]),\n Data(x=[192, 10], edge_index=[2, 576], y=[0]),\n Data(x=[190, 10], edge_index=[2, 561], y=[0]),\n Data(x=[190, 10], edge_index=[2, 570], y=[0]),\n Data(x=[191, 10], edge_index=[2, 573], y=[0]),\n Data(x=[190, 10], edge_index=[2, 561], y=[0]),\n Data(x=[191, 10], edge_index=[2, 564], y=[0]),\n Data(x=[190, 10], edge_index=[2, 561], y=[0]),\n Data(x=[192, 10], edge_index=[2, 576], y=[0]),\n Data(x=[190, 10], edge_index=[2, 570], y=[0]),\n Data(x=[191, 10], edge_index=[2, 573], y=[0]),\n Data(x=[191, 10], edge_index=[2, 564], y=[0]),\n Data(x=[192, 10], edge_index=[2, 576], y=[0]),\n Data(x=[191, 10], edge_index=[2, 573], y=[0]),\n Data(x=[190, 10], edge_index=[2, 570], y=[0]),\n Data(x=[192, 10], edge_index=[2, 576], y=[0]),\n Data(x=[190, 10], edge_index=[2, 561], y=[0]),\n Data(x=[191, 10], edge_index=[2, 573], y=[0]),\n Data(x=[191, 10], edge_index=[2, 564], y=[0]),\n Data(x=[192, 10], edge_index=[2, 576], y=[0]),\n Data(x=[190, 10], edge_index=[2, 570], y=[0]),\n Data(x=[190, 10], edge_index=[2, 561], y=[0]),\n Data(x=[190, 10], edge_index=[2, 561], y=[0]),\n Data(x=[190, 10], edge_index=[2, 561], y=[0]),\n Data(x=[191, 10], edge_index=[2, 573], y=[0]),\n Data(x=[190, 10], edge_index=[2, 561], y=[0]),\n Data(x=[189, 10], edge_index=[2, 559], y=[0]),\n Data(x=[191, 10], edge_index=[2, 573], y=[0]),\n Data(x=[191, 10], edge_index=[2, 564], y=[0]),\n Data(x=[191, 10], edge_index=[2, 573], y=[0]),\n Data(x=[191, 10], edge_index=[2, 573], y=[0]),\n Data(x=[192, 10], edge_index=[2, 576], y=[0]),\n Data(x=[190, 10], edge_index=[2, 570], y=[0]),\n Data(x=[191, 10], edge_index=[2, 564], y=[0]),\n Data(x=[190, 10], edge_index=[2, 561], y=[0]),\n Data(x=[190, 10], edge_index=[2, 570], y=[0]),\n Data(x=[190, 10], edge_index=[2, 561], y=[0]),\n Data(x=[191, 10], edge_index=[2, 573], y=[0]),\n Data(x=[190, 10], edge_index=[2, 561], y=[0]),\n Data(x=[189, 10], edge_index=[2, 558], y=[0]),\n Data(x=[192, 10], edge_index=[2, 576], y=[0]),\n Data(x=[191, 10], edge_index=[2, 573], y=[0]),\n Data(x=[190, 10], edge_index=[2, 570], y=[0]),\n Data(x=[192, 10], edge_index=[2, 576], y=[0]),\n Data(x=[191, 10], edge_index=[2, 573], y=[0]),\n Data(x=[190, 10], edge_index=[2, 562], y=[0]),\n Data(x=[192, 10], edge_index=[2, 576], y=[0]),\n Data(x=[191, 10], edge_index=[2, 564], y=[0]),\n Data(x=[191, 10], edge_index=[2, 573], y=[0]),\n Data(x=[190, 10], edge_index=[2, 570], y=[0]),\n Data(x=[192, 10], edge_index=[2, 576], y=[0]),\n Data(x=[191, 10], edge_index=[2, 573], y=[0]),\n Data(x=[190, 10], edge_index=[2, 561], y=[0]),\n Data(x=[189, 10], edge_index=[2, 559], y=[0]),\n Data(x=[192, 10], edge_index=[2, 576], y=[0]),\n Data(x=[192, 10], edge_index=[2, 576], y=[0]),\n Data(x=[190, 10], edge_index=[2, 570], y=[0]),\n Data(x=[191, 10], edge_index=[2, 564], y=[0]),\n Data(x=[190, 10], edge_index=[2, 561], y=[0]),\n Data(x=[189, 10], edge_index=[2, 558], y=[0]),\n Data(x=[191, 10], edge_index=[2, 564], y=[0]),\n Data(x=[190, 10], edge_index=[2, 562], y=[0]),\n Data(x=[192, 10], edge_index=[2, 576], y=[0]),\n Data(x=[191, 10], edge_index=[2, 573], y=[0]),\n Data(x=[189, 10], edge_index=[2, 558], y=[0]),\n Data(x=[191, 10], edge_index=[2, 573], y=[0]),\n Data(x=[192, 10], edge_index=[2, 576], y=[0]),\n Data(x=[191, 10], edge_index=[2, 573], y=[0]),\n Data(x=[190, 10], edge_index=[2, 561], y=[0]),\n Data(x=[192, 10], edge_index=[2, 576], y=[0]),\n Data(x=[191, 10], edge_index=[2, 573], y=[0]),\n Data(x=[190, 10], edge_index=[2, 561], y=[0]),\n Data(x=[191, 10], edge_index=[2, 564], y=[0]),\n Data(x=[192, 10], edge_index=[2, 576], y=[0]),\n Data(x=[191, 10], edge_index=[2, 564], y=[0]),\n Data(x=[191, 10], edge_index=[2, 573], y=[0]),\n Data(x=[190, 10], edge_index=[2, 561], y=[0]),\n Data(x=[192, 10], edge_index=[2, 576], y=[0]),\n Data(x=[190, 10], edge_index=[2, 561], y=[0]),\n Data(x=[190, 10], edge_index=[2, 570], y=[0]),\n Data(x=[191, 10], edge_index=[2, 564], y=[0]),\n Data(x=[192, 10], edge_index=[2, 576], y=[0]),\n Data(x=[190, 10], edge_index=[2, 570], y=[0]),\n Data(x=[192, 10], edge_index=[2, 576], y=[0]),\n Data(x=[191, 10], edge_index=[2, 573], y=[0]),\n Data(x=[190, 10], edge_index=[2, 562], y=[0]),\n Data(x=[191, 10], edge_index=[2, 573], y=[0]),\n Data(x=[191, 10], edge_index=[2, 573], y=[0]),\n Data(x=[192, 10], edge_index=[2, 576], y=[0]),\n Data(x=[191, 10], edge_index=[2, 564], y=[0]),\n Data(x=[189, 10], edge_index=[2, 559], y=[0]),\n Data(x=[190, 10], edge_index=[2, 570], y=[0]),\n Data(x=[192, 10], edge_index=[2, 576], y=[0]),\n Data(x=[191, 10], edge_index=[2, 573], y=[0]),\n Data(x=[189, 10], edge_index=[2, 558], y=[0]),\n Data(x=[191, 10], edge_index=[2, 573], y=[0]),\n Data(x=[190, 10], edge_index=[2, 562], y=[0]),\n Data(x=[192, 10], edge_index=[2, 576], y=[0]),\n Data(x=[190, 10], edge_index=[2, 570], y=[0]),\n Data(x=[191, 10], edge_index=[2, 564], y=[0]),\n Data(x=[192, 10], edge_index=[2, 576], y=[0]),\n Data(x=[190, 10], edge_index=[2, 561], y=[0]),\n Data(x=[190, 10], edge_index=[2, 570], y=[0]),\n Data(x=[191, 10], edge_index=[2, 564], y=[0]),\n Data(x=[192, 10], edge_index=[2, 576], y=[0]),\n Data(x=[189, 10], edge_index=[2, 558], y=[0]),\n Data(x=[191, 10], edge_index=[2, 573], y=[0]),\n Data(x=[191, 10], edge_index=[2, 564], y=[0]),\n Data(x=[191, 10], edge_index=[2, 573], y=[0]),\n Data(x=[190, 10], edge_index=[2, 570], y=[0]),\n Data(x=[189, 10], edge_index=[2, 558], y=[0]),\n Data(x=[191, 10], edge_index=[2, 564], y=[0]),\n Data(x=[190, 10], edge_index=[2, 570], y=[0]),\n Data(x=[191, 10], edge_index=[2, 564], y=[0]),\n Data(x=[192, 10], edge_index=[2, 576], y=[0]),\n Data(x=[189, 10], edge_index=[2, 558], y=[0]),\n Data(x=[190, 10], edge_index=[2, 570], y=[0]),\n Data(x=[190, 10], edge_index=[2, 561], y=[0]),\n Data(x=[192, 10], edge_index=[2, 576], y=[0]),\n Data(x=[191, 10], edge_index=[2, 564], y=[0]),\n Data(x=[191, 10], edge_index=[2, 564], y=[0]),\n Data(x=[192, 10], edge_index=[2, 576], y=[0]),\n Data(x=[190, 10], edge_index=[2, 570], y=[0]),\n Data(x=[190, 10], edge_index=[2, 561], y=[0]),\n Data(x=[189, 10], edge_index=[2, 558], y=[0]),\n Data(x=[191, 10], edge_index=[2, 564], y=[0]),\n Data(x=[190, 10], edge_index=[2, 561], y=[0]),\n Data(x=[191, 10], edge_index=[2, 564], y=[0]),\n Data(x=[191, 10], edge_index=[2, 573], y=[0]),\n Data(x=[190, 10], edge_index=[2, 570], y=[0]),\n Data(x=[190, 10], edge_index=[2, 570], y=[0]),\n Data(x=[191, 10], edge_index=[2, 573], y=[0]),\n Data(x=[192, 10], edge_index=[2, 576], y=[0]),\n Data(x=[191, 10], edge_index=[2, 573], y=[0]),\n Data(x=[189, 10], edge_index=[2, 558], y=[0]),\n Data(x=[192, 10], edge_index=[2, 576], y=[0]),\n Data(x=[190, 10], edge_index=[2, 570], y=[0]),\n Data(x=[191, 10], edge_index=[2, 573], y=[0]),\n Data(x=[190, 10], edge_index=[2, 561], y=[0]),\n Data(x=[190, 10], edge_index=[2, 570], y=[0]),\n Data(x=[191, 10], edge_index=[2, 573], y=[0]),\n Data(x=[190, 10], edge_index=[2, 561], y=[0]),\n Data(x=[190, 10], edge_index=[2, 570], y=[0]),\n Data(x=[191, 10], edge_index=[2, 573], y=[0]),\n Data(x=[190, 10], edge_index=[2, 561], y=[0]),\n Data(x=[191, 10], edge_index=[2, 564], y=[0]),\n Data(x=[190, 10], edge_index=[2, 570], y=[0]),\n Data(x=[191, 10], edge_index=[2, 573], y=[0]),\n Data(x=[191, 10], edge_index=[2, 564], y=[0]),\n Data(x=[192, 10], edge_index=[2, 576], y=[0]),\n Data(x=[190, 10], edge_index=[2, 570], y=[0]),\n Data(x=[192, 10], edge_index=[2, 576], y=[0]),\n Data(x=[190, 10], edge_index=[2, 570], y=[0]),\n Data(x=[192, 10], edge_index=[2, 576], y=[0]),\n Data(x=[189, 10], edge_index=[2, 558], y=[0]),\n Data(x=[191, 10], edge_index=[2, 564], y=[0]),\n Data(x=[190, 10], edge_index=[2, 570], y=[0]),\n Data(x=[191, 10], edge_index=[2, 573], y=[0]),\n Data(x=[191, 10], edge_index=[2, 573], y=[0]),\n Data(x=[191, 10], edge_index=[2, 564], y=[0]),\n Data(x=[190, 10], edge_index=[2, 561], y=[0]),\n Data(x=[189, 10], edge_index=[2, 559], y=[0]),\n Data(x=[192, 10], edge_index=[2, 576], y=[0]),\n Data(x=[190, 10], edge_index=[2, 562], y=[0]),\n Data(x=[191, 10], edge_index=[2, 573], y=[0]),\n Data(x=[190, 10], edge_index=[2, 561], y=[0]),\n Data(x=[192, 10], edge_index=[2, 576], y=[0]),\n Data(x=[190, 10], edge_index=[2, 561], y=[0]),\n Data(x=[190, 10], edge_index=[2, 570], y=[0]),\n Data(x=[190, 10], edge_index=[2, 561], y=[0]),\n Data(x=[191, 10], edge_index=[2, 564], y=[0]),\n Data(x=[191, 10], edge_index=[2, 573], y=[0]),\n Data(x=[192, 10], edge_index=[2, 576], y=[0]),\n Data(x=[191, 10], edge_index=[2, 564], y=[0]),\n Data(x=[190, 10], edge_index=[2, 561], y=[0]),\n Data(x=[190, 10], edge_index=[2, 570], y=[0]),\n Data(x=[192, 10], edge_index=[2, 576], y=[0]),\n Data(x=[191, 10], edge_index=[2, 564], y=[0]),\n Data(x=[190, 10], edge_index=[2, 561], y=[0]),\n Data(x=[192, 10], edge_index=[2, 576], y=[0]),\n Data(x=[191, 10], edge_index=[2, 564], y=[0]),\n Data(x=[190, 10], edge_index=[2, 570], y=[0]),\n Data(x=[191, 10], edge_index=[2, 564], y=[0]),\n Data(x=[190, 10], edge_index=[2, 561], y=[0]),\n Data(x=[192, 10], edge_index=[2, 576], y=[0]),\n Data(x=[189, 10], edge_index=[2, 559], y=[0]),\n Data(x=[191, 10], edge_index=[2, 564], y=[0]),\n Data(x=[190, 10], edge_index=[2, 561], y=[0]),\n Data(x=[192, 10], edge_index=[2, 576], y=[0]),\n Data(x=[190, 10], edge_index=[2, 570], y=[0]),\n Data(x=[191, 10], edge_index=[2, 573], y=[0]),\n Data(x=[190, 10], edge_index=[2, 561], y=[0]),\n Data(x=[191, 10], edge_index=[2, 564], y=[0]),\n Data(x=[191, 10], edge_index=[2, 573], y=[0]),\n Data(x=[190, 10], edge_index=[2, 570], y=[0]),\n Data(x=[192, 10], edge_index=[2, 576], y=[0]),\n Data(x=[191, 10], edge_index=[2, 573], y=[0]),\n Data(x=[190, 10], edge_index=[2, 561], y=[0]),\n Data(x=[191, 10], edge_index=[2, 564], y=[0]),\n Data(x=[190, 10], edge_index=[2, 561], y=[0]),\n Data(x=[190, 10], edge_index=[2, 570], y=[0]),\n Data(x=[192, 10], edge_index=[2, 576], y=[0]),\n Data(x=[191, 10], edge_index=[2, 564], y=[0]),\n Data(x=[189, 10], edge_index=[2, 558], y=[0]),\n Data(x=[191, 10], edge_index=[2, 573], y=[0]),\n Data(x=[190, 10], edge_index=[2, 570], y=[0]),\n Data(x=[192, 10], edge_index=[2, 576], y=[0]),\n Data(x=[191, 10], edge_index=[2, 564], y=[0]),\n Data(x=[191, 10], edge_index=[2, 573], y=[0]),\n Data(x=[189, 10], edge_index=[2, 559], y=[0]),\n Data(x=[190, 10], edge_index=[2, 570], y=[0]),\n Data(x=[190, 10], edge_index=[2, 561], y=[0]),\n Data(x=[191, 10], edge_index=[2, 573], y=[0]),\n Data(x=[191, 10], edge_index=[2, 573], y=[0]),\n Data(x=[189, 10], edge_index=[2, 558], y=[0]),\n Data(x=[191, 10], edge_index=[2, 564], y=[0]),\n Data(x=[192, 10], edge_index=[2, 576], y=[0]),\n Data(x=[190, 10], edge_index=[2, 570], y=[0]),\n Data(x=[191, 10], edge_index=[2, 573], y=[0]),\n Data(x=[191, 10], edge_index=[2, 564], y=[0]),\n Data(x=[192, 10], edge_index=[2, 576], y=[0]),\n Data(x=[192, 10], edge_index=[2, 576], y=[0]),\n Data(x=[191, 10], edge_index=[2, 573], y=[0]),\n Data(x=[189, 10], edge_index=[2, 558], y=[0]),\n Data(x=[192, 10], edge_index=[2, 576], y=[0]),\n Data(x=[191, 10], edge_index=[2, 573], y=[0]),\n Data(x=[192, 10], edge_index=[2, 576], y=[0]),\n Data(x=[189, 10], edge_index=[2, 558], y=[0]),\n Data(x=[190, 10], edge_index=[2, 570], y=[0]),\n Data(x=[191, 10], edge_index=[2, 564], y=[0]),\n Data(x=[192, 10], edge_index=[2, 576], y=[0]),\n Data(x=[189, 10], edge_index=[2, 558], y=[0]),\n Data(x=[191, 10], edge_index=[2, 564], y=[0]),\n Data(x=[192, 10], edge_index=[2, 576], y=[0]),\n Data(x=[190, 10], edge_index=[2, 570], y=[0]),\n Data(x=[191, 10], edge_index=[2, 564], y=[0]),\n Data(x=[190, 10], edge_index=[2, 570], y=[0]),\n Data(x=[191, 10], edge_index=[2, 564], y=[0]),\n Data(x=[190, 10], edge_index=[2, 561], y=[0]),\n Data(x=[190, 10], edge_index=[2, 570], y=[0]),\n Data(x=[191, 10], edge_index=[2, 564], y=[0]),\n Data(x=[190, 10], edge_index=[2, 561], y=[0]),\n Data(x=[192, 10], edge_index=[2, 576], y=[0]),\n Data(x=[189, 10], edge_index=[2, 558], y=[0]),\n Data(x=[192, 10], edge_index=[2, 576], y=[0]),\n Data(x=[190, 10], edge_index=[2, 570], y=[0]),\n Data(x=[190, 10], edge_index=[2, 561], y=[0]),\n Data(x=[191, 10], edge_index=[2, 564], y=[0]),\n Data(x=[189, 10], edge_index=[2, 558], y=[0]),\n Data(x=[192, 10], edge_index=[2, 576], y=[0]),\n Data(x=[190, 10], edge_index=[2, 570], y=[0]),\n Data(x=[190, 10], edge_index=[2, 561], y=[0]),\n Data(x=[191, 10], edge_index=[2, 564], y=[0]),\n Data(x=[191, 10], edge_index=[2, 573], y=[0]),\n Data(x=[192, 10], edge_index=[2, 576], y=[0]),\n Data(x=[190, 10], edge_index=[2, 561], y=[0]),\n Data(x=[190, 10], edge_index=[2, 570], y=[0]),\n Data(x=[191, 10], edge_index=[2, 573], y=[0]),\n Data(x=[191, 10], edge_index=[2, 564], y=[0]),\n Data(x=[189, 10], edge_index=[2, 558], y=[0]),\n Data(x=[190, 10], edge_index=[2, 561], y=[0]),\n Data(x=[191, 10], edge_index=[2, 573], y=[0]),\n Data(x=[191, 10], edge_index=[2, 564], y=[0]),\n Data(x=[191, 10], edge_index=[2, 573], y=[0]),\n Data(x=[191, 10], edge_index=[2, 564], y=[0]),\n Data(x=[189, 10], edge_index=[2, 558], y=[0]),\n Data(x=[190, 10], edge_index=[2, 570], y=[0]),\n Data(x=[191, 10], edge_index=[2, 573], y=[0]),\n Data(x=[192, 10], edge_index=[2, 576], y=[0]),\n Data(x=[192, 10], edge_index=[2, 576], y=[0]),\n Data(x=[190, 10], edge_index=[2, 561], y=[0]),\n Data(x=[192, 10], edge_index=[2, 576], y=[0]),\n Data(x=[191, 10], edge_index=[2, 573], y=[0]),\n Data(x=[190, 10], edge_index=[2, 561], y=[0]),\n Data(x=[190, 10], edge_index=[2, 570], y=[0]),\n Data(x=[191, 10], edge_index=[2, 564], y=[0]),\n Data(x=[191, 10], edge_index=[2, 573], y=[0]),\n Data(x=[190, 10], edge_index=[2, 561], y=[0]),\n Data(x=[191, 10], edge_index=[2, 564], y=[0]),\n Data(x=[190, 10], edge_index=[2, 570], y=[0]),\n Data(x=[191, 10], edge_index=[2, 573], y=[0]),\n Data(x=[191, 10], edge_index=[2, 573], y=[0]),\n Data(x=[190, 10], edge_index=[2, 562], y=[0]),\n Data(x=[190, 10], edge_index=[2, 570], y=[0]),\n Data(x=[191, 10], edge_index=[2, 564], y=[0]),\n Data(x=[191, 10], edge_index=[2, 573], y=[0]),\n Data(x=[191, 10], edge_index=[2, 564], y=[0]),\n Data(x=[190, 10], edge_index=[2, 562], y=[0]),\n Data(x=[192, 10], edge_index=[2, 576], y=[0]),\n Data(x=[189, 10], edge_index=[2, 558], y=[0]),\n Data(x=[191, 10], edge_index=[2, 564], y=[0]),\n Data(x=[190, 10], edge_index=[2, 561], y=[0]),\n Data(x=[190, 10], edge_index=[2, 570], y=[0]),\n Data(x=[190, 10], edge_index=[2, 561], y=[0]),\n Data(x=[191, 10], edge_index=[2, 573], y=[0]),\n Data(x=[192, 10], edge_index=[2, 576], y=[0]),\n Data(x=[191, 10], edge_index=[2, 564], y=[0]),\n Data(x=[191, 10], edge_index=[2, 573], y=[0]),\n Data(x=[190, 10], edge_index=[2, 561], y=[0]),\n Data(x=[191, 10], edge_index=[2, 564], y=[0]),\n Data(x=[190, 10], edge_index=[2, 561], y=[0]),\n Data(x=[190, 10], edge_index=[2, 570], y=[0]),\n Data(x=[189, 10], edge_index=[2, 558], y=[0]),\n Data(x=[190, 10], edge_index=[2, 561], y=[0]),\n Data(x=[191, 10], edge_index=[2, 573], y=[0]),\n Data(x=[191, 10], edge_index=[2, 564], y=[0]),\n Data(x=[190, 10], edge_index=[2, 561], y=[0]),\n Data(x=[191, 10], edge_index=[2, 564], y=[0]),\n Data(x=[192, 10], edge_index=[2, 576], y=[0]),\n Data(x=[191, 10], edge_index=[2, 573], y=[0]),\n Data(x=[191, 10], edge_index=[2, 564], y=[0]),\n Data(x=[190, 10], edge_index=[2, 570], y=[0]),\n Data(x=[191, 10], edge_index=[2, 564], y=[0]),\n Data(x=[191, 10], edge_index=[2, 573], y=[0]),\n Data(x=[190, 10], edge_index=[2, 561], y=[0]),\n Data(x=[190, 10], edge_index=[2, 570], y=[0]),\n Data(x=[189, 10], edge_index=[2, 558], y=[0]),\n Data(x=[190, 10], edge_index=[2, 561], y=[0]),\n Data(x=[192, 10], edge_index=[2, 576], y=[0]),\n Data(x=[190, 10], edge_index=[2, 570], y=[0]),\n Data(x=[191, 10], edge_index=[2, 564], y=[0]),\n Data(x=[191, 10], edge_index=[2, 573], y=[0]),\n Data(x=[190, 10], edge_index=[2, 561], y=[0]),\n Data(x=[191, 10], edge_index=[2, 564], y=[0]),\n Data(x=[192, 10], edge_index=[2, 576], y=[0]),\n Data(x=[190, 10], edge_index=[2, 570], y=[0]),\n Data(x=[190, 10], edge_index=[2, 562], y=[0]),\n Data(x=[191, 10], edge_index=[2, 564], y=[0]),\n Data(x=[191, 10], edge_index=[2, 573], y=[0]),\n Data(x=[190, 10], edge_index=[2, 570], y=[0]),\n Data(x=[192, 10], edge_index=[2, 576], y=[0]),\n Data(x=[191, 10], edge_index=[2, 573], y=[0]),\n Data(x=[192, 10], edge_index=[2, 576], y=[0]),\n Data(x=[191, 10], edge_index=[2, 573], y=[0]),\n Data(x=[190, 10], edge_index=[2, 570], y=[0]),\n Data(x=[191, 10], edge_index=[2, 564], y=[0]),\n Data(x=[189, 10], edge_index=[2, 558], y=[0]),\n Data(x=[190, 10], edge_index=[2, 561], y=[0]),\n Data(x=[190, 10], edge_index=[2, 570], y=[0]),\n Data(x=[190, 10], edge_index=[2, 570], y=[0]),\n Data(x=[191, 10], edge_index=[2, 564], y=[0]),\n Data(x=[191, 10], edge_index=[2, 573], y=[0]),\n Data(x=[189, 10], edge_index=[2, 559], y=[0]),\n Data(x=[192, 10], edge_index=[2, 576], y=[0]),\n Data(x=[191, 10], edge_index=[2, 573], y=[0]),\n Data(x=[192, 10], edge_index=[2, 576], y=[0]),\n Data(x=[191, 10], edge_index=[2, 573], y=[0]),\n Data(x=[190, 10], edge_index=[2, 570], y=[0]),\n Data(x=[190, 10], edge_index=[2, 561], y=[0]),\n Data(x=[190, 10], edge_index=[2, 570], y=[0]),\n Data(x=[191, 10], edge_index=[2, 573], y=[0]),\n Data(x=[191, 10], edge_index=[2, 564], y=[0]),\n Data(x=[190, 10], edge_index=[2, 561], y=[0]),\n Data(x=[189, 10], edge_index=[2, 558], y=[0]),\n Data(x=[190, 10], edge_index=[2, 570], y=[0]),\n Data(x=[191, 10], edge_index=[2, 573], y=[0]),\n Data(x=[190, 10], edge_index=[2, 561], y=[0]),\n Data(x=[192, 10], edge_index=[2, 576], y=[0]),\n Data(x=[190, 10], edge_index=[2, 561], y=[0]),\n Data(x=[191, 10], edge_index=[2, 573], y=[0]),\n Data(x=[190, 10], edge_index=[2, 561], y=[0]),\n Data(x=[191, 10], edge_index=[2, 573], y=[0]),\n Data(x=[192, 10], edge_index=[2, 576], y=[0]),\n Data(x=[189, 10], edge_index=[2, 558], y=[0]),\n Data(x=[191, 10], edge_index=[2, 564], y=[0]),\n Data(x=[191, 10], edge_index=[2, 573], y=[0]),\n Data(x=[192, 10], edge_index=[2, 576], y=[0]),\n Data(x=[191, 10], edge_index=[2, 564], y=[0]),\n Data(x=[191, 10], edge_index=[2, 573], y=[0]),\n Data(x=[192, 10], edge_index=[2, 576], y=[0]),\n Data(x=[190, 10], edge_index=[2, 561], y=[0]),\n Data(x=[191, 10], edge_index=[2, 573], y=[0]),\n Data(x=[192, 10], edge_index=[2, 576], y=[0]),\n Data(x=[191, 10], edge_index=[2, 564], y=[0]),\n Data(x=[190, 10], edge_index=[2, 561], y=[0]),\n Data(x=[191, 10], edge_index=[2, 573], y=[0]),\n Data(x=[190, 10], edge_index=[2, 561], y=[0]),\n Data(x=[192, 10], edge_index=[2, 576], y=[0]),\n Data(x=[189, 10], edge_index=[2, 558], y=[0]),\n Data(x=[190, 10], edge_index=[2, 570], y=[0]),\n Data(x=[191, 10], edge_index=[2, 564], y=[0]),\n Data(x=[190, 10], edge_index=[2, 561], y=[0]),\n Data(x=[192, 10], edge_index=[2, 576], y=[0]),\n Data(x=[191, 10], edge_index=[2, 564], y=[0]),\n Data(x=[190, 10], edge_index=[2, 561], y=[0]),\n Data(x=[189, 10], edge_index=[2, 558], y=[0]),\n Data(x=[190, 10], edge_index=[2, 570], y=[0]),\n Data(x=[190, 10], edge_index=[2, 561], y=[0]),\n Data(x=[190, 10], edge_index=[2, 570], y=[0]),\n Data(x=[189, 10], edge_index=[2, 558], y=[0]),\n Data(x=[192, 10], edge_index=[2, 576], y=[0]),\n Data(x=[190, 10], edge_index=[2, 561], y=[0]),\n Data(x=[190, 10], edge_index=[2, 570], y=[0]),\n Data(x=[190, 10], edge_index=[2, 570], y=[0]),\n Data(x=[191, 10], edge_index=[2, 564], y=[0]),\n Data(x=[191, 10], edge_index=[2, 573], y=[0]),\n Data(x=[190, 10], edge_index=[2, 561], y=[0]),\n Data(x=[191, 10], edge_index=[2, 564], y=[0]),\n Data(x=[190, 10], edge_index=[2, 570], y=[0]),\n Data(x=[192, 10], edge_index=[2, 576], y=[0]),\n Data(x=[191, 10], edge_index=[2, 573], y=[0]),\n Data(x=[191, 10], edge_index=[2, 564], y=[0]),\n Data(x=[190, 10], edge_index=[2, 561], y=[0]),\n Data(x=[190, 10], edge_index=[2, 561], y=[0]),\n Data(x=[191, 10], edge_index=[2, 573], y=[0]),\n Data(x=[192, 10], edge_index=[2, 576], y=[0]),\n Data(x=[191, 10], edge_index=[2, 564], y=[0]),\n Data(x=[190, 10], edge_index=[2, 570], y=[0]),\n Data(x=[192, 10], edge_index=[2, 576], y=[0]),\n Data(x=[191, 10], edge_index=[2, 573], y=[0]),\n Data(x=[192, 10], edge_index=[2, 576], y=[0]),\n Data(x=[191, 10], edge_index=[2, 573], y=[0]),\n Data(x=[192, 10], edge_index=[2, 576], y=[0]),\n Data(x=[190, 10], edge_index=[2, 561], y=[0]),\n Data(x=[191, 10], edge_index=[2, 564], y=[0]),\n Data(x=[190, 10], edge_index=[2, 570], y=[0]),\n Data(x=[192, 10], edge_index=[2, 576], y=[0]),\n Data(x=[191, 10], edge_index=[2, 573], y=[0]),\n Data(x=[191, 10], edge_index=[2, 564], y=[0]),\n Data(x=[190, 10], edge_index=[2, 570], y=[0]),\n Data(x=[191, 10], edge_index=[2, 573], y=[0]),\n Data(x=[191, 10], edge_index=[2, 564], y=[0]),\n Data(x=[191, 10], edge_index=[2, 573], y=[0]),\n Data(x=[191, 10], edge_index=[2, 564], y=[0]),\n Data(x=[190, 10], edge_index=[2, 570], y=[0]),\n Data(x=[191, 10], edge_index=[2, 573], y=[0]),\n Data(x=[190, 10], edge_index=[2, 561], y=[0]),\n Data(x=[192, 10], edge_index=[2, 576], y=[0]),\n Data(x=[191, 10], edge_index=[2, 573], y=[0]),\n Data(x=[190, 10], edge_index=[2, 570], y=[0]),\n Data(x=[191, 10], edge_index=[2, 564], y=[0]),\n Data(x=[189, 10], edge_index=[2, 558], y=[0]),\n Data(x=[192, 10], edge_index=[2, 576], y=[0]),\n Data(x=[191, 10], edge_index=[2, 573], y=[0]),\n Data(x=[190, 10], edge_index=[2, 570], y=[0]),\n Data(x=[191, 10], edge_index=[2, 573], y=[0]),\n Data(x=[192, 10], edge_index=[2, 576], y=[0]),\n Data(x=[189, 10], edge_index=[2, 558], y=[0]),\n Data(x=[191, 10], edge_index=[2, 564], y=[0]),\n Data(x=[190, 10], edge_index=[2, 561], y=[0]),\n Data(x=[192, 10], edge_index=[2, 576], y=[0]),\n Data(x=[191, 10], edge_index=[2, 564], y=[0]),\n Data(x=[191, 10], edge_index=[2, 573], y=[0]),\n Data(x=[191, 10], edge_index=[2, 564], y=[0]),\n Data(x=[192, 10], edge_index=[2, 576], y=[0]),\n Data(x=[190, 10], edge_index=[2, 570], y=[0]),\n Data(x=[190, 10], edge_index=[2, 561], y=[0]),\n Data(x=[189, 10], edge_index=[2, 558], y=[0]),\n Data(x=[191, 10], edge_index=[2, 564], y=[0]),\n Data(x=[191, 10], edge_index=[2, 573], y=[0]),\n Data(x=[191, 10], edge_index=[2, 564], y=[0]),\n Data(x=[191, 10], edge_index=[2, 573], y=[0]),\n Data(x=[192, 10], edge_index=[2, 576], y=[0]),\n Data(x=[191, 10], edge_index=[2, 573], y=[0]),\n Data(x=[190, 10], edge_index=[2, 570], y=[0]),\n Data(x=[190, 10], edge_index=[2, 561], y=[0]),\n Data(x=[191, 10], edge_index=[2, 564], y=[0]),\n Data(x=[190, 10], edge_index=[2, 561], y=[0]),\n Data(x=[190, 10], edge_index=[2, 570], y=[0]),\n Data(x=[191, 10], edge_index=[2, 573], y=[0]),\n Data(x=[190, 10], edge_index=[2, 561], y=[0]),\n Data(x=[191, 10], edge_index=[2, 564], y=[0]),\n Data(x=[191, 10], edge_index=[2, 564], y=[0]),\n Data(x=[190, 10], edge_index=[2, 561], y=[0]),\n Data(x=[189, 10], edge_index=[2, 558], y=[0]),\n Data(x=[191, 10], edge_index=[2, 564], y=[0]),\n Data(x=[190, 10], edge_index=[2, 561], y=[0]),\n Data(x=[190, 10], edge_index=[2, 570], y=[0]),\n Data(x=[191, 10], edge_index=[2, 573], y=[0]),\n Data(x=[191, 10], edge_index=[2, 564], y=[0]),\n Data(x=[191, 10], edge_index=[2, 573], y=[0]),\n Data(x=[190, 10], edge_index=[2, 561], y=[0]),\n Data(x=[192, 10], edge_index=[2, 576], y=[0]),\n Data(x=[190, 10], edge_index=[2, 561], y=[0]),\n Data(x=[192, 10], edge_index=[2, 576], y=[0]),\n Data(x=[191, 10], edge_index=[2, 564], y=[0]),\n Data(x=[190, 10], edge_index=[2, 561], y=[0]),\n Data(x=[191, 10], edge_index=[2, 573], y=[0]),\n Data(x=[192, 10], edge_index=[2, 576], y=[0]),\n Data(x=[190, 10], edge_index=[2, 561], y=[0]),\n Data(x=[192, 10], edge_index=[2, 576], y=[0]),\n Data(x=[189, 10], edge_index=[2, 558], y=[0]),\n Data(x=[190, 10], edge_index=[2, 561], y=[0]),\n Data(x=[191, 10], edge_index=[2, 573], y=[0]),\n Data(x=[191, 10], edge_index=[2, 564], y=[0]),\n Data(x=[190, 10], edge_index=[2, 570], y=[0]),\n Data(x=[191, 10], edge_index=[2, 564], y=[0]),\n Data(x=[190, 10], edge_index=[2, 570], y=[0]),\n Data(x=[190, 10], edge_index=[2, 561], y=[0]),\n Data(x=[191, 10], edge_index=[2, 564], y=[0]),\n Data(x=[192, 10], edge_index=[2, 576], y=[0]),\n Data(x=[191, 10], edge_index=[2, 573], y=[0]),\n Data(x=[189, 10], edge_index=[2, 558], y=[0]),\n Data(x=[190, 10], edge_index=[2, 561], y=[0]),\n Data(x=[189, 10], edge_index=[2, 558], y=[0]),\n Data(x=[191, 10], edge_index=[2, 564], y=[0]),\n Data(x=[191, 10], edge_index=[2, 573], y=[0]),\n Data(x=[192, 10], edge_index=[2, 576], y=[0]),\n Data(x=[190, 10], edge_index=[2, 561], y=[0]),\n Data(x=[190, 10], edge_index=[2, 561], y=[0]),\n Data(x=[192, 10], edge_index=[2, 576], y=[0]),\n Data(x=[190, 10], edge_index=[2, 570], y=[0]),\n Data(x=[191, 10], edge_index=[2, 564], y=[0]),\n Data(x=[190, 10], edge_index=[2, 561], y=[0]),\n Data(x=[192, 10], edge_index=[2, 576], y=[0]),\n Data(x=[191, 10], edge_index=[2, 573], y=[0]),\n Data(x=[190, 10], edge_index=[2, 570], y=[0]),\n Data(x=[190, 10], edge_index=[2, 570], y=[0]),\n Data(x=[191, 10], edge_index=[2, 573], y=[0]),\n Data(x=[190, 10], edge_index=[2, 561], y=[0]),\n Data(x=[192, 10], edge_index=[2, 576], y=[0]),\n Data(x=[191, 10], edge_index=[2, 573], y=[0]),\n Data(x=[190, 10], edge_index=[2, 561], y=[0]),\n Data(x=[191, 10], edge_index=[2, 573], y=[0]),\n Data(x=[191, 10], edge_index=[2, 564], y=[0]),\n Data(x=[191, 10], edge_index=[2, 573], y=[0]),\n Data(x=[190, 10], edge_index=[2, 570], y=[0]),\n Data(x=[190, 10], edge_index=[2, 561], y=[0]),\n Data(x=[190, 10], edge_index=[2, 570], y=[0]),\n Data(x=[191, 10], edge_index=[2, 573], y=[0]),\n Data(x=[189, 10], edge_index=[2, 558], y=[0]),\n Data(x=[190, 10], edge_index=[2, 561], y=[0]),\n Data(x=[191, 10], edge_index=[2, 573], y=[0]),\n Data(x=[191, 10], edge_index=[2, 564], y=[0]),\n Data(x=[190, 10], edge_index=[2, 570], y=[0]),\n Data(x=[190, 10], edge_index=[2, 561], y=[0]),\n Data(x=[192, 10], edge_index=[2, 576], y=[0]),\n Data(x=[189, 10], edge_index=[2, 558], y=[0]),\n Data(x=[190, 10], edge_index=[2, 561], y=[0]),\n Data(x=[192, 10], edge_index=[2, 576], y=[0]),\n Data(x=[191, 10], edge_index=[2, 564], y=[0]),\n Data(x=[189, 10], edge_index=[2, 558], y=[0]),\n Data(x=[192, 10], edge_index=[2, 576], y=[0]),\n Data(x=[190, 10], edge_index=[2, 570], y=[0]),\n Data(x=[191, 10], edge_index=[2, 564], y=[0]),\n Data(x=[191, 10], edge_index=[2, 573], y=[0]),\n Data(x=[190, 10], edge_index=[2, 561], y=[0]),\n Data(x=[190, 10], edge_index=[2, 570], y=[0]),\n Data(x=[189, 10], edge_index=[2, 558], y=[0]),\n Data(x=[192, 10], edge_index=[2, 576], y=[0]),\n Data(x=[190, 10], edge_index=[2, 570], y=[0]),\n ...]"
     },
     "execution_count": 46,
     "metadata": {},
     "output_type": "execute_result"
    }
   ],
   "source": [
    "dataset"
   ],
   "metadata": {
    "collapsed": false,
    "pycharm": {
     "name": "#%%\n"
    }
   }
  },
  {
   "cell_type": "code",
   "execution_count": 47,
   "outputs": [],
   "source": [
    "dataloader = DataLoader(dataset, batch_size=16)"
   ],
   "metadata": {
    "collapsed": false,
    "pycharm": {
     "name": "#%%\n"
    }
   }
  },
  {
   "cell_type": "code",
   "execution_count": 53,
   "outputs": [],
   "source": [
    "from torch_geometric.nn import GCNConv, BatchNorm, global_mean_pool\n",
    "from torch.nn import Linear, Softmax\n",
    "\n",
    "\n",
    "class GNNPass(torch.nn.Module):\n",
    "    def __init__(self, hidden_channels):\n",
    "        super(GNNPass, self).__init__()\n",
    "        torch.manual_seed(12345)\n",
    "        self.conv1 = GCNConv(10, 64)\n",
    "        self.conv2 = GCNConv(64, 64)\n",
    "        self.conv3 = GCNConv(64, 64)\n",
    "        self.conv4 = GCNConv(64, 64)\n",
    "        self.conv5 = GCNConv(64, 64)\n",
    "        self.conv6 = GCNConv(64 * 5, 64)\n",
    "\n",
    "        self.norm1 = BatchNorm(64)\n",
    "        self.norm2 = BatchNorm(64)\n",
    "        self.norm3 = BatchNorm(64)\n",
    "        self.norm4 = BatchNorm(64)\n",
    "        self.norm5 = BatchNorm(64)\n",
    "        self.norm6 = BatchNorm(64)\n",
    "\n",
    "        self.lin = Linear(64, 1)\n",
    "\n",
    "    def forward(self, data):\n",
    "        x, edge_index, batch = data.x, data.edge_index, data.batch\n",
    "        # 1. Obtain node embeddings\n",
    "        x1 = self.conv1(x, edge_index)\n",
    "        x1 = x1.relu()\n",
    "        x1 = self.norm1(x1)\n",
    "\n",
    "        x2 = self.conv2(x1, edge_index)\n",
    "        x2 = x2.relu()\n",
    "        x2 = self.norm2(x2)\n",
    "\n",
    "        x3 = self.conv3(x2, edge_index)\n",
    "        x3 = x3.relu()\n",
    "        x3 = self.norm3(x3)\n",
    "\n",
    "        x4 = self.conv4(x3, edge_index)\n",
    "        x4 = x4.relu()\n",
    "        x4 = self.norm4(x4)\n",
    "\n",
    "        x5 = self.conv5(x4, edge_index)\n",
    "        x5 = x5.relu()\n",
    "        x5 = self.norm5(x5)\n",
    "\n",
    "        x6 = self.conv6(torch.hstack([x1, x2, x3, x4, x5]), edge_index)\n",
    "\n",
    "        # 2. Readout layer\n",
    "        x = global_mean_pool(x6, batch)  # [batch_size, hidden_channels]\n",
    "        # print(x5.shape)\n",
    "\n",
    "        # 3. Apply a final classifier\n",
    "        x = self.norm6(x)\n",
    "\n",
    "        class_outputs = self.lin(x)\n",
    "\n",
    "        return class_outputs"
   ],
   "metadata": {
    "collapsed": false,
    "pycharm": {
     "name": "#%%\n"
    }
   }
  },
  {
   "cell_type": "code",
   "execution_count": 59,
   "outputs": [],
   "source": [
    "loss_function = torch.nn.MSELoss()\n",
    "#loss_function.to(device)"
   ],
   "metadata": {
    "collapsed": false,
    "pycharm": {
     "name": "#%%\n"
    }
   }
  },
  {
   "cell_type": "code",
   "execution_count": 55,
   "outputs": [],
   "source": [
    "import random\n",
    "import os\n",
    "from torch.optim import Optimizer\n",
    "\n",
    "def train(train_loader):\n",
    "    model.train()\n",
    "    optimizer = torch.optim.Adam(model.parameters(), lr=0.0001)\n",
    "    for data in train_loader:  # Iterate in batches over the training dataset.\n",
    "        out = model(data).class_outputs  # Perform a single forward pass.\n",
    "        loss = loss_function(out, data.y.type(torch.LongTensor))  # Compute the loss.\n",
    "        loss.backward()  # Derive gradients.\n",
    "        optimizer.step()  # Update parameters based on gradients.\n",
    "        optimizer.zero_grad()  # Clear gradients.\n",
    "\n",
    "\n",
    "def test(test_loader, preds):\n",
    "    labels = np.array([])\n",
    "    for data in test_loader:\n",
    "        labels = np.append(labels, data.y.numpy())\n",
    "\n",
    "    return mean_absolute_error(labels, preds)\n",
    "\n",
    "\n",
    "def predict(test_loader):\n",
    "    preds = np.array([])\n",
    "    for data in test_loader:\n",
    "        data = data.to(device)\n",
    "        out = model(data)\n",
    "        out = out.cpu().detach().numpy().reshape(1, -1)[0]\n",
    "        preds = np.append(preds, out)\n",
    "\n",
    "    return preds\n",
    "\n",
    "\n",
    "def stack(base_model, name, data_list, y, epochs, start_fold, loss_function, batch_size, random_state, device):\n",
    "    random.seed(random_state),\n",
    "    np.random.seed(random_state)\n",
    "    torch.manual_seed(random_state)\n",
    "    torch.cuda.manual_seed_all(random_state)\n",
    "\n",
    "\n",
    "    # loss_function.to(device)\n",
    "    scores = []\n",
    "    kfold = KFold(n_splits=4)\n",
    "\n",
    "    for fold, (train_ids, test_ids) in enumerate(kfold.split(data_list, y)):\n",
    "        if fold >= start_fold:\n",
    "            sub_scores = []\n",
    "            model = base_model\n",
    "\n",
    "            optimizer = torch.optim.Adam(model.parameters(), lr=0.0001)\n",
    "\n",
    "            train_subsampler = [data_list[id] for id in train_ids]\n",
    "            train_loader = torch_geometric.loader.DataLoader(\n",
    "                train_subsampler,\n",
    "                batch_size=batch_size)\n",
    "\n",
    "            test_subsampler = [data_list[id] for id in test_ids]\n",
    "            test_loader = torch_geometric.loader.DataLoader(\n",
    "                test_subsampler,\n",
    "                batch_size=batch_size)\n",
    "\n",
    "            epochs = epochs\n",
    "            total_steps = len(train_loader) * epochs\n",
    "\n",
    "            for epoch in range(epochs):\n",
    "\n",
    "                model.train()\n",
    "                for data in train_loader:  # Iterate in batches over the training dataset.\n",
    "                    data = data.to(device)\n",
    "                    out = model(data)  # Perform a single forward pass.\n",
    "                    y = data.y.to(device)\n",
    "                    loss = loss_function(out, y)  # Compute the loss.\n",
    "                    loss.backward()  # Derive gradients.\n",
    "                    optimizer.step()  # Update parameters based on gradients.\n",
    "                    optimizer.zero_grad()  # Clear gradients.\n",
    "\n",
    "                train_preds = predict(train_loader)\n",
    "                test_preds = predict(test_loader)\n",
    "\n",
    "                train_mae = test(train_loader, train_preds)\n",
    "                test_mae = test(test_loader, test_preds)\n",
    "\n",
    "                sub_scores.append(test_mae)\n",
    "                print(f'Fold: {fold} Epoch: {epoch:03d}, Train MAE: {train_mae:.4f}, Test MAE: {test_mae:.4f}')\n",
    "\n",
    "                with open(f\"{name}_{epoch}_epochs_{fold}_fold.npy\", 'wb') as fin:\n",
    "                    np.save(fin, test_preds)\n",
    "\n",
    "                torch.save(model.state_dict(), f\"{name}_{epoch}_epochs_{fold}_fold.h5\")\n",
    "\n",
    "            best_epoch = sub_scores.index(min(sub_scores))\n",
    "            print(f\"{name}_{best_epoch}_epochs_{fold}_fold saved!\")\n",
    "\n",
    "            for path in os.listdir():\n",
    "                if f\"{name}\" in path:\n",
    "                    os.remove(path)\n",
    "\n",
    "            scores.append(min(sub_scores))\n",
    "\n",
    "    return scores"
   ],
   "metadata": {
    "collapsed": false,
    "pycharm": {
     "name": "#%%\n"
    }
   }
  },
  {
   "cell_type": "code",
   "execution_count": 66,
   "outputs": [
    {
     "name": "stdout",
     "output_type": "stream",
     "text": [
      "None\n"
     ]
    }
   ],
   "source": [
    "import torch.cuda\n",
    "#x = torch.randn(3, 4, 5, device='cuda:0')\n",
    "#torch.cuda.is_available()"
   ],
   "metadata": {
    "collapsed": false,
    "pycharm": {
     "name": "#%%\n"
    }
   }
  },
  {
   "cell_type": "code",
   "execution_count": 67,
   "outputs": [
    {
     "ename": "AssertionError",
     "evalue": "Torch not compiled with CUDA enabled",
     "output_type": "error",
     "traceback": [
      "\u001B[1;31m---------------------------------------------------------------------------\u001B[0m",
      "\u001B[1;31mAssertionError\u001B[0m                            Traceback (most recent call last)",
      "\u001B[1;32m~\\AppData\\Local\\Temp/ipykernel_9648/3427561717.py\u001B[0m in \u001B[0;36m<module>\u001B[1;34m\u001B[0m\n\u001B[0;32m      6\u001B[0m \u001B[1;31m#device = torch.device(\"cuda\")\u001B[0m\u001B[1;33m\u001B[0m\u001B[1;33m\u001B[0m\u001B[0m\n\u001B[0;32m      7\u001B[0m \u001B[1;31m#model.to(device)\u001B[0m\u001B[1;33m\u001B[0m\u001B[1;33m\u001B[0m\u001B[0m\n\u001B[1;32m----> 8\u001B[1;33m \u001B[0mscores\u001B[0m \u001B[1;33m=\u001B[0m \u001B[0mstack\u001B[0m\u001B[1;33m(\u001B[0m\u001B[0mname\u001B[0m\u001B[1;33m=\u001B[0m\u001B[1;34m\"gnnpass\"\u001B[0m\u001B[1;33m,\u001B[0m \u001B[0mbase_model\u001B[0m\u001B[1;33m=\u001B[0m\u001B[0mmodel\u001B[0m\u001B[1;33m,\u001B[0m \u001B[0mdata_list\u001B[0m\u001B[1;33m=\u001B[0m\u001B[0mdataset\u001B[0m\u001B[1;33m,\u001B[0m \u001B[0my\u001B[0m\u001B[1;33m=\u001B[0m\u001B[0my\u001B[0m\u001B[1;33m,\u001B[0m \u001B[0mepochs\u001B[0m\u001B[1;33m=\u001B[0m\u001B[1;36m50\u001B[0m\u001B[1;33m,\u001B[0m \u001B[0mstart_fold\u001B[0m\u001B[1;33m=\u001B[0m\u001B[1;36m0\u001B[0m\u001B[1;33m,\u001B[0m \u001B[0mloss_function\u001B[0m\u001B[1;33m=\u001B[0m\u001B[0mloss_function\u001B[0m\u001B[1;33m,\u001B[0m \u001B[0mbatch_size\u001B[0m\u001B[1;33m=\u001B[0m\u001B[1;36m16\u001B[0m\u001B[1;33m,\u001B[0m \u001B[0mrandom_state\u001B[0m\u001B[1;33m=\u001B[0m\u001B[1;36m42\u001B[0m\u001B[1;33m,\u001B[0m \u001B[0mdevice\u001B[0m\u001B[1;33m=\u001B[0m\u001B[0mdevice\u001B[0m\u001B[1;33m)\u001B[0m\u001B[1;33m\u001B[0m\u001B[1;33m\u001B[0m\u001B[0m\n\u001B[0m\u001B[0;32m      9\u001B[0m \u001B[0mscores\u001B[0m\u001B[1;33m\u001B[0m\u001B[1;33m\u001B[0m\u001B[0m\n",
      "\u001B[1;32m~\\AppData\\Local\\Temp/ipykernel_9648/717039667.py\u001B[0m in \u001B[0;36mstack\u001B[1;34m(base_model, name, data_list, y, epochs, start_fold, loss_function, batch_size, random_state, device)\u001B[0m\n\u001B[0;32m     68\u001B[0m                 \u001B[0mmodel\u001B[0m\u001B[1;33m.\u001B[0m\u001B[0mtrain\u001B[0m\u001B[1;33m(\u001B[0m\u001B[1;33m)\u001B[0m\u001B[1;33m\u001B[0m\u001B[1;33m\u001B[0m\u001B[0m\n\u001B[0;32m     69\u001B[0m                 \u001B[1;32mfor\u001B[0m \u001B[0mdata\u001B[0m \u001B[1;32min\u001B[0m \u001B[0mtrain_loader\u001B[0m\u001B[1;33m:\u001B[0m  \u001B[1;31m# Iterate in batches over the training dataset.\u001B[0m\u001B[1;33m\u001B[0m\u001B[1;33m\u001B[0m\u001B[0m\n\u001B[1;32m---> 70\u001B[1;33m                     \u001B[0mdata\u001B[0m \u001B[1;33m=\u001B[0m \u001B[0mdata\u001B[0m\u001B[1;33m.\u001B[0m\u001B[0mto\u001B[0m\u001B[1;33m(\u001B[0m\u001B[0mdevice\u001B[0m\u001B[1;33m)\u001B[0m\u001B[1;33m\u001B[0m\u001B[1;33m\u001B[0m\u001B[0m\n\u001B[0m\u001B[0;32m     71\u001B[0m                     \u001B[0mout\u001B[0m \u001B[1;33m=\u001B[0m \u001B[0mmodel\u001B[0m\u001B[1;33m(\u001B[0m\u001B[0mdata\u001B[0m\u001B[1;33m)\u001B[0m  \u001B[1;31m# Perform a single forward pass.\u001B[0m\u001B[1;33m\u001B[0m\u001B[1;33m\u001B[0m\u001B[0m\n\u001B[0;32m     72\u001B[0m                     \u001B[0my\u001B[0m \u001B[1;33m=\u001B[0m \u001B[0mdata\u001B[0m\u001B[1;33m.\u001B[0m\u001B[0my\u001B[0m\u001B[1;33m.\u001B[0m\u001B[0mto\u001B[0m\u001B[1;33m(\u001B[0m\u001B[0mdevice\u001B[0m\u001B[1;33m)\u001B[0m\u001B[1;33m\u001B[0m\u001B[1;33m\u001B[0m\u001B[0m\n",
      "\u001B[1;32m~\\anaconda3\\lib\\site-packages\\torch_geometric\\data\\data.py\u001B[0m in \u001B[0;36mto\u001B[1;34m(self, device, non_blocking, *args)\u001B[0m\n\u001B[0;32m    214\u001B[0m         r\"\"\"Performs tensor device conversion, either for all attributes or\n\u001B[0;32m    215\u001B[0m         only the ones given in :obj:`*args`.\"\"\"\n\u001B[1;32m--> 216\u001B[1;33m         return self.apply(\n\u001B[0m\u001B[0;32m    217\u001B[0m             lambda x: x.to(device=device, non_blocking=non_blocking), *args)\n\u001B[0;32m    218\u001B[0m \u001B[1;33m\u001B[0m\u001B[0m\n",
      "\u001B[1;32m~\\anaconda3\\lib\\site-packages\\torch_geometric\\data\\data.py\u001B[0m in \u001B[0;36mapply\u001B[1;34m(self, func, *args)\u001B[0m\n\u001B[0;32m    202\u001B[0m         the ones given in :obj:`*args`.\"\"\"\n\u001B[0;32m    203\u001B[0m         \u001B[1;32mfor\u001B[0m \u001B[0mstore\u001B[0m \u001B[1;32min\u001B[0m \u001B[0mself\u001B[0m\u001B[1;33m.\u001B[0m\u001B[0mstores\u001B[0m\u001B[1;33m:\u001B[0m\u001B[1;33m\u001B[0m\u001B[1;33m\u001B[0m\u001B[0m\n\u001B[1;32m--> 204\u001B[1;33m             \u001B[0mstore\u001B[0m\u001B[1;33m.\u001B[0m\u001B[0mapply\u001B[0m\u001B[1;33m(\u001B[0m\u001B[0mfunc\u001B[0m\u001B[1;33m,\u001B[0m \u001B[1;33m*\u001B[0m\u001B[0margs\u001B[0m\u001B[1;33m)\u001B[0m\u001B[1;33m\u001B[0m\u001B[1;33m\u001B[0m\u001B[0m\n\u001B[0m\u001B[0;32m    205\u001B[0m         \u001B[1;32mreturn\u001B[0m \u001B[0mself\u001B[0m\u001B[1;33m\u001B[0m\u001B[1;33m\u001B[0m\u001B[0m\n\u001B[0;32m    206\u001B[0m \u001B[1;33m\u001B[0m\u001B[0m\n",
      "\u001B[1;32m~\\anaconda3\\lib\\site-packages\\torch_geometric\\data\\storage.py\u001B[0m in \u001B[0;36mapply\u001B[1;34m(self, func, *args)\u001B[0m\n\u001B[0;32m    144\u001B[0m         the ones given in :obj:`*args`.\"\"\"\n\u001B[0;32m    145\u001B[0m         \u001B[1;32mfor\u001B[0m \u001B[0mkey\u001B[0m\u001B[1;33m,\u001B[0m \u001B[0mvalue\u001B[0m \u001B[1;32min\u001B[0m \u001B[0mself\u001B[0m\u001B[1;33m.\u001B[0m\u001B[0mitems\u001B[0m\u001B[1;33m(\u001B[0m\u001B[1;33m*\u001B[0m\u001B[0margs\u001B[0m\u001B[1;33m)\u001B[0m\u001B[1;33m:\u001B[0m\u001B[1;33m\u001B[0m\u001B[1;33m\u001B[0m\u001B[0m\n\u001B[1;32m--> 146\u001B[1;33m             \u001B[0mself\u001B[0m\u001B[1;33m[\u001B[0m\u001B[0mkey\u001B[0m\u001B[1;33m]\u001B[0m \u001B[1;33m=\u001B[0m \u001B[0mrecursive_apply\u001B[0m\u001B[1;33m(\u001B[0m\u001B[0mvalue\u001B[0m\u001B[1;33m,\u001B[0m \u001B[0mfunc\u001B[0m\u001B[1;33m)\u001B[0m\u001B[1;33m\u001B[0m\u001B[1;33m\u001B[0m\u001B[0m\n\u001B[0m\u001B[0;32m    147\u001B[0m         \u001B[1;32mreturn\u001B[0m \u001B[0mself\u001B[0m\u001B[1;33m\u001B[0m\u001B[1;33m\u001B[0m\u001B[0m\n\u001B[0;32m    148\u001B[0m \u001B[1;33m\u001B[0m\u001B[0m\n",
      "\u001B[1;32m~\\anaconda3\\lib\\site-packages\\torch_geometric\\data\\storage.py\u001B[0m in \u001B[0;36mrecursive_apply\u001B[1;34m(data, func)\u001B[0m\n\u001B[0;32m    493\u001B[0m \u001B[1;32mdef\u001B[0m \u001B[0mrecursive_apply\u001B[0m\u001B[1;33m(\u001B[0m\u001B[0mdata\u001B[0m\u001B[1;33m:\u001B[0m \u001B[0mAny\u001B[0m\u001B[1;33m,\u001B[0m \u001B[0mfunc\u001B[0m\u001B[1;33m:\u001B[0m \u001B[0mCallable\u001B[0m\u001B[1;33m)\u001B[0m \u001B[1;33m->\u001B[0m \u001B[0mAny\u001B[0m\u001B[1;33m:\u001B[0m\u001B[1;33m\u001B[0m\u001B[1;33m\u001B[0m\u001B[0m\n\u001B[0;32m    494\u001B[0m     \u001B[1;32mif\u001B[0m \u001B[0misinstance\u001B[0m\u001B[1;33m(\u001B[0m\u001B[0mdata\u001B[0m\u001B[1;33m,\u001B[0m \u001B[0mTensor\u001B[0m\u001B[1;33m)\u001B[0m\u001B[1;33m:\u001B[0m\u001B[1;33m\u001B[0m\u001B[1;33m\u001B[0m\u001B[0m\n\u001B[1;32m--> 495\u001B[1;33m         \u001B[1;32mreturn\u001B[0m \u001B[0mfunc\u001B[0m\u001B[1;33m(\u001B[0m\u001B[0mdata\u001B[0m\u001B[1;33m)\u001B[0m\u001B[1;33m\u001B[0m\u001B[1;33m\u001B[0m\u001B[0m\n\u001B[0m\u001B[0;32m    496\u001B[0m     \u001B[1;32melif\u001B[0m \u001B[0misinstance\u001B[0m\u001B[1;33m(\u001B[0m\u001B[0mdata\u001B[0m\u001B[1;33m,\u001B[0m \u001B[0mtorch\u001B[0m\u001B[1;33m.\u001B[0m\u001B[0mnn\u001B[0m\u001B[1;33m.\u001B[0m\u001B[0mutils\u001B[0m\u001B[1;33m.\u001B[0m\u001B[0mrnn\u001B[0m\u001B[1;33m.\u001B[0m\u001B[0mPackedSequence\u001B[0m\u001B[1;33m)\u001B[0m\u001B[1;33m:\u001B[0m\u001B[1;33m\u001B[0m\u001B[1;33m\u001B[0m\u001B[0m\n\u001B[0;32m    497\u001B[0m         \u001B[1;32mreturn\u001B[0m \u001B[0mfunc\u001B[0m\u001B[1;33m(\u001B[0m\u001B[0mdata\u001B[0m\u001B[1;33m)\u001B[0m\u001B[1;33m\u001B[0m\u001B[1;33m\u001B[0m\u001B[0m\n",
      "\u001B[1;32m~\\anaconda3\\lib\\site-packages\\torch_geometric\\data\\data.py\u001B[0m in \u001B[0;36m<lambda>\u001B[1;34m(x)\u001B[0m\n\u001B[0;32m    215\u001B[0m         only the ones given in :obj:`*args`.\"\"\"\n\u001B[0;32m    216\u001B[0m         return self.apply(\n\u001B[1;32m--> 217\u001B[1;33m             lambda x: x.to(device=device, non_blocking=non_blocking), *args)\n\u001B[0m\u001B[0;32m    218\u001B[0m \u001B[1;33m\u001B[0m\u001B[0m\n\u001B[0;32m    219\u001B[0m     \u001B[1;32mdef\u001B[0m \u001B[0mcpu\u001B[0m\u001B[1;33m(\u001B[0m\u001B[0mself\u001B[0m\u001B[1;33m,\u001B[0m \u001B[1;33m*\u001B[0m\u001B[0margs\u001B[0m\u001B[1;33m:\u001B[0m \u001B[0mList\u001B[0m\u001B[1;33m[\u001B[0m\u001B[0mstr\u001B[0m\u001B[1;33m]\u001B[0m\u001B[1;33m)\u001B[0m\u001B[1;33m:\u001B[0m\u001B[1;33m\u001B[0m\u001B[1;33m\u001B[0m\u001B[0m\n",
      "\u001B[1;32m~\\anaconda3\\lib\\site-packages\\torch\\cuda\\__init__.py\u001B[0m in \u001B[0;36m_lazy_init\u001B[1;34m()\u001B[0m\n\u001B[0;32m    206\u001B[0m                 \"multiprocessing, you must use the 'spawn' start method\")\n\u001B[0;32m    207\u001B[0m         \u001B[1;32mif\u001B[0m \u001B[1;32mnot\u001B[0m \u001B[0mhasattr\u001B[0m\u001B[1;33m(\u001B[0m\u001B[0mtorch\u001B[0m\u001B[1;33m.\u001B[0m\u001B[0m_C\u001B[0m\u001B[1;33m,\u001B[0m \u001B[1;34m'_cuda_getDeviceCount'\u001B[0m\u001B[1;33m)\u001B[0m\u001B[1;33m:\u001B[0m\u001B[1;33m\u001B[0m\u001B[1;33m\u001B[0m\u001B[0m\n\u001B[1;32m--> 208\u001B[1;33m             \u001B[1;32mraise\u001B[0m \u001B[0mAssertionError\u001B[0m\u001B[1;33m(\u001B[0m\u001B[1;34m\"Torch not compiled with CUDA enabled\"\u001B[0m\u001B[1;33m)\u001B[0m\u001B[1;33m\u001B[0m\u001B[1;33m\u001B[0m\u001B[0m\n\u001B[0m\u001B[0;32m    209\u001B[0m         \u001B[1;32mif\u001B[0m \u001B[0m_cudart\u001B[0m \u001B[1;32mis\u001B[0m \u001B[1;32mNone\u001B[0m\u001B[1;33m:\u001B[0m\u001B[1;33m\u001B[0m\u001B[1;33m\u001B[0m\u001B[0m\n\u001B[0;32m    210\u001B[0m             raise AssertionError(\n",
      "\u001B[1;31mAssertionError\u001B[0m: Torch not compiled with CUDA enabled"
     ]
    }
   ],
   "source": [
    "import numpy as np\n",
    "from sklearn.model_selection import KFold\n",
    "from sklearn.metrics import mean_absolute_error\n",
    "\n",
    "model = GNNPass(64)\n",
    "#device = torch.device(\"cuda\")\n",
    "#model.to(device)\n",
    "scores = stack(name=\"gnnpass\", base_model=model, data_list=dataset, y=y, epochs=50, start_fold=0, loss_function=loss_function, batch_size=16, random_state=42, device=device)\n",
    "scores"
   ],
   "metadata": {
    "collapsed": false,
    "pycharm": {
     "name": "#%%\n"
    }
   }
  }
 ],
 "metadata": {
  "kernelspec": {
   "display_name": "Python 3",
   "language": "python",
   "name": "python3"
  },
  "language_info": {
   "codemirror_mode": {
    "name": "ipython",
    "version": 2
   },
   "file_extension": ".py",
   "mimetype": "text/x-python",
   "name": "python",
   "nbconvert_exporter": "python",
   "pygments_lexer": "ipython2",
   "version": "2.7.6"
  }
 },
 "nbformat": 4,
 "nbformat_minor": 0
}